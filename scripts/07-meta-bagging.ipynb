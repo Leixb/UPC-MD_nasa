{
 "cells": [
  {
   "cell_type": "code",
   "execution_count": 16,
   "metadata": {},
   "outputs": [],
   "source": [
    "%run \"00-common\"\n",
    "%matplotlib inline\n",
    "\n",
    "import sklearn as sk\n",
    "from sklearn.ensemble import BaggingClassifier\n",
    "from sklearn.model_selection import GridSearchCV, cross_val_score\n",
    "from sklearn.tree import DecisionTreeClassifier\n",
    "\n",
    "df = pd.read_csv('../feature_selection.csv')"
   ]
  },
  {
   "cell_type": "code",
   "execution_count": 4,
   "metadata": {},
   "outputs": [],
   "source": [
    "X = df.drop(\"koi_disposition\", axis=1)\n",
    "y = df[\"koi_disposition\"]\n",
    "\n",
    "(X_train, X_test, y_train, y_test) = sk.model_selection.train_test_split(X, y, test_size=.3, stratify=y, random_state=1)"
   ]
  },
  {
   "cell_type": "markdown",
   "metadata": {},
   "source": [
    "# Bagging"
   ]
  },
  {
   "cell_type": "code",
   "execution_count": 7,
   "metadata": {},
   "outputs": [
    {
     "name": "stdout",
     "output_type": "stream",
     "text": [
      "Accuracy: 0.871 [1]\n",
      "Accuracy: 0.871 [2]\n",
      "Accuracy: 0.896 [5]\n",
      "Accuracy: 0.901 [10]\n",
      "Accuracy: 0.902 [20]\n",
      "Accuracy: 0.912 [50]\n",
      "Accuracy: 0.916 [100]\n",
      "Accuracy: 0.915 [200]\n"
     ]
    }
   ],
   "source": [
    "cv = 50\n",
    "estimators = [1, 2, 5, 10, 20, 50, 100, 200]\n",
    "\n",
    "lb = []\n",
    "for nest in estimators:\n",
    "    scores = cross_val_score(BaggingClassifier(base_estimator=DecisionTreeClassifier(),n_estimators=nest), X_train, y_train, cv=cv, scoring='accuracy', n_jobs=-1)\n",
    "    print(\"Accuracy: %0.3f [%s]\" % (scores.mean(), nest))\n",
    "    lb.append(scores.mean())"
   ]
  },
  {
   "cell_type": "code",
   "execution_count": 12,
   "metadata": {},
   "outputs": [
    {
     "name": "stdout",
     "output_type": "stream",
     "text": [
      "\n",
      "Accuracy: 0.831 [1]\n",
      "Accuracy: 0.843 [2]\n",
      "Accuracy: 0.891 [5]\n",
      "Accuracy: 0.896 [10]\n",
      "Accuracy: 0.912 [20]\n",
      "Accuracy: 0.910 [50]\n",
      "Accuracy: 0.909 [100]\n",
      "Accuracy: 0.909 [200]\n"
     ]
    }
   ],
   "source": [
    "lb2 = []\n",
    "print()\n",
    "for nest in estimators:\n",
    "    scores = cross_val_score(BaggingClassifier(base_estimator=DecisionTreeClassifier(), n_estimators=nest, max_features=0.3), X_train, y_train, cv=cv, scoring='accuracy', n_jobs=-1)\n",
    "    print(\"Accuracy: %0.3f [%s]\" % (scores.mean(), nest))\n",
    "    lb2.append(scores.mean())"
   ]
  },
  {
   "cell_type": "code",
   "execution_count": 13,
   "metadata": {},
   "outputs": [
    {
     "name": "stdout",
     "output_type": "stream",
     "text": [
      "\n",
      "Confusion matrix on test set:\n",
      " [[386  22]\n",
      " [ 24 168]]\n",
      "\n",
      "Accuracy on test set:  0.9233333333333333\n"
     ]
    }
   ],
   "source": [
    "bg = BaggingClassifier(base_estimator=DecisionTreeClassifier(), n_estimators=100)\n",
    "bg.fit(X_train, y_train)\n",
    "pred = bg.predict(X_test)\n",
    "\n",
    "print(\"\\nConfusion matrix on test set:\\n\", sk.metrics.confusion_matrix(y_test, pred))\n",
    "print(\"\\nAccuracy on test set: \", sk.metrics.accuracy_score(y_test, pred))"
   ]
  },
  {
   "cell_type": "code",
   "execution_count": 27,
   "metadata": {},
   "outputs": [],
   "source": [
    "n_estimators = [1, 2, 5, 10, 20, 50, 100, 200]\n",
    "max_features = [0.1, 0.2, 0.3, 0.4, 0.5, 0.6, 0.7, 0.8, 0.9, 1.0]\n",
    "\n",
    "param_grid = { 'max_features': max_features, 'n_estimators': n_estimators }\n",
    "\n",
    "grid_search = GridSearchCV(BaggingClassifier(base_estimator=DecisionTreeClassifier()), param_grid, cv=cv, n_jobs=-1)\n",
    "grid_search.fit(X_train, y_train)\n",
    "\n",
    "scores = grid_search.cv_results_['mean_test_score']"
   ]
  },
  {
   "cell_type": "code",
   "execution_count": null,
   "metadata": {},
   "outputs": [
    {
     "name": "stdout",
     "output_type": "stream",
     "text": [
      "\n",
      "Best combination of parameters found:  {'max_features': 0.9, 'n_estimators': 200}\n"
     ]
    }
   ],
   "source": [
    "scores = grid_search.cv_results_['mean_test_score']\n",
    "scores = np.array(scores).reshape(len(param_grid['max_features']), len(param_grid['n_estimators']))\n",
    "\n",
    "plt.matshow(scores)\n",
    "plt.xlabel('n estimators')\n",
    "plt.ylabel('max features')\n",
    "plt.colorbar()\n",
    "plt.grid(b=None)\n",
    "plt.xticks(np.arange(len(param_grid['n_estimators'])), param_grid['n_estimators'], rotation='vertical')\n",
    "plt.yticks(np.arange(len(param_grid['max_features'])), param_grid['max_features'])\n",
    "\n",
    "plt.savefig(\"../figures/bagging.pdf\")\n",
    "\n",
    "parval = grid_search.best_params_\n",
    "print(\"\\nBest combination of parameters found: \", parval)\n",
    "\n",
    "\n",
    "cvacc = cross_val_score(BaggingClassifier(base_estimator=DecisionTreeClassifier(), n_estimators=parval['n_estimators'], max_features=parval['max_features']) , X=X_train,  y=y_train, cv=cv, scoring='accuracy', n_jobs=-1)\n",
    "print('\\nAcc. 50-fold cross on train data= ', cvacc.mean())"
   ]
  },
  {
   "cell_type": "code",
   "execution_count": 20,
   "metadata": {},
   "outputs": [
    {
     "data": {
      "text/plain": [
       "array([[0.71142857, 0.74785714, 0.8       , 0.83071429, 0.85214286,\n",
       "        0.875     , 0.87714286, 0.88214286, 0.80357143, 0.83857143],\n",
       "       [0.86857143, 0.88571429, 0.90142857, 0.90357143, 0.91142857,\n",
       "        0.90714286, 0.82714286, 0.83714286, 0.90571429, 0.89928571],\n",
       "       [0.90357143, 0.90857143, 0.90785714, 0.91285714, 0.86071429,\n",
       "        0.86357143, 0.905     , 0.90285714, 0.91      , 0.91142857],\n",
       "       [0.91357143, 0.91357143, 0.84857143, 0.86642857, 0.89357143,\n",
       "        0.90071429, 0.905     , 0.91142857, 0.90714286, 0.90857143],\n",
       "       [0.85928571, 0.85928571, 0.89785714, 0.89714286, 0.90357143,\n",
       "        0.90714286, 0.90571429, 0.90714286, 0.85857143, 0.86142857],\n",
       "       [0.89142857, 0.90214286, 0.90642857, 0.90428571, 0.90571429,\n",
       "        0.905     , 0.86428571, 0.87214286, 0.89785714, 0.89      ],\n",
       "       [0.90714286, 0.89857143, 0.90428571, 0.90642857, 0.87142857,\n",
       "        0.86357143, 0.89571429, 0.90571429, 0.90428571, 0.90142857],\n",
       "       [0.90785714, 0.90785714, 0.86571429, 0.875     , 0.895     ,\n",
       "        0.89428571, 0.905     , 0.90642857, 0.90785714, 0.90642857]])"
      ]
     },
     "execution_count": 20,
     "metadata": {},
     "output_type": "execute_result"
    }
   ],
   "source": [
    "scores"
   ]
  }
 ],
 "metadata": {
  "kernelspec": {
   "display_name": "Python 3",
   "language": "python",
   "name": "python3"
  },
  "language_info": {
   "codemirror_mode": {
    "name": "ipython",
    "version": 3
   },
   "file_extension": ".py",
   "mimetype": "text/x-python",
   "name": "python",
   "nbconvert_exporter": "python",
   "pygments_lexer": "ipython3",
   "version": "3.8.5"
  }
 },
 "nbformat": 4,
 "nbformat_minor": 4
}
