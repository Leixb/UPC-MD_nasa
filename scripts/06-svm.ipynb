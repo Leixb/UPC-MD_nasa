{
 "cells": [
  {
   "cell_type": "markdown",
   "metadata": {},
   "source": [
    "# SVM"
   ]
  },
  {
   "cell_type": "code",
   "execution_count": 1,
   "metadata": {},
   "outputs": [],
   "source": [
    "%run \"00-common\"\n",
    "%matplotlib inline\n",
    "\n",
    "import sklearn as sk                        # Llibreia de DM\n",
    "import sklearn.datasets as ds               # Per carregar mÃ©s facilment el dataset digits\n",
    "import sklearn.model_selection as cv        # Pel Cross-validation\n",
    "import sklearn.neighbors as nb              # Per fer servir el knn\n",
    "from sklearn.model_selection import cross_val_score, GridSearchCV\n",
    "from sklearn.svm import SVC, LinearSVC"
   ]
  },
  {
   "cell_type": "code",
   "execution_count": 2,
   "metadata": {},
   "outputs": [],
   "source": [
    "df = pd.read_csv('../feature_selection.csv')"
   ]
  },
  {
   "cell_type": "code",
   "execution_count": 3,
   "metadata": {},
   "outputs": [
    {
     "data": {
      "text/html": [
       "<div>\n",
       "<style scoped>\n",
       "    .dataframe tbody tr th:only-of-type {\n",
       "        vertical-align: middle;\n",
       "    }\n",
       "\n",
       "    .dataframe tbody tr th {\n",
       "        vertical-align: top;\n",
       "    }\n",
       "\n",
       "    .dataframe thead th {\n",
       "        text-align: right;\n",
       "    }\n",
       "</style>\n",
       "<table border=\"1\" class=\"dataframe\">\n",
       "  <thead>\n",
       "    <tr style=\"text-align: right;\">\n",
       "      <th></th>\n",
       "      <th>koi_period</th>\n",
       "      <th>koi_period_err1</th>\n",
       "      <th>koi_period_err2</th>\n",
       "      <th>koi_time0bk_err1</th>\n",
       "      <th>koi_time0bk_err2</th>\n",
       "      <th>koi_impact</th>\n",
       "      <th>koi_duration_err1</th>\n",
       "      <th>koi_duration_err2</th>\n",
       "      <th>koi_depth</th>\n",
       "      <th>koi_prad</th>\n",
       "      <th>koi_prad_err1</th>\n",
       "      <th>koi_prad_err2</th>\n",
       "      <th>koi_teq</th>\n",
       "      <th>koi_insol</th>\n",
       "      <th>koi_insol_err1</th>\n",
       "      <th>koi_insol_err2</th>\n",
       "      <th>koi_model_snr</th>\n",
       "      <th>koi_steff</th>\n",
       "      <th>koi_steff_err1</th>\n",
       "      <th>koi_steff_err2</th>\n",
       "      <th>koi_slogg_err1</th>\n",
       "      <th>koi_slogg_err2</th>\n",
       "      <th>koi_srad</th>\n",
       "      <th>koi_srad_err1</th>\n",
       "      <th>dec</th>\n",
       "      <th>koi_disposition</th>\n",
       "    </tr>\n",
       "  </thead>\n",
       "  <tbody>\n",
       "    <tr>\n",
       "      <th>count</th>\n",
       "      <td>2000.000000</td>\n",
       "      <td>2.000000e+03</td>\n",
       "      <td>2.000000e+03</td>\n",
       "      <td>2000.000000</td>\n",
       "      <td>2000.000000</td>\n",
       "      <td>2000.000000</td>\n",
       "      <td>2000.000000</td>\n",
       "      <td>2000.000000</td>\n",
       "      <td>2000.000000</td>\n",
       "      <td>2000.000000</td>\n",
       "      <td>2000.000000</td>\n",
       "      <td>2000.000000</td>\n",
       "      <td>2000.000000</td>\n",
       "      <td>2.000000e+03</td>\n",
       "      <td>2.000000e+03</td>\n",
       "      <td>2.000000e+03</td>\n",
       "      <td>2000.000000</td>\n",
       "      <td>2000.000000</td>\n",
       "      <td>2000.000000</td>\n",
       "      <td>2000.000000</td>\n",
       "      <td>2000.000000</td>\n",
       "      <td>2000.000000</td>\n",
       "      <td>2000.000000</td>\n",
       "      <td>2000.000000</td>\n",
       "      <td>2000.000000</td>\n",
       "      <td>2000.0000</td>\n",
       "    </tr>\n",
       "    <tr>\n",
       "      <th>mean</th>\n",
       "      <td>59.351876</td>\n",
       "      <td>2.239946e-03</td>\n",
       "      <td>-2.239946e-03</td>\n",
       "      <td>0.009407</td>\n",
       "      <td>-0.009407</td>\n",
       "      <td>0.783689</td>\n",
       "      <td>0.324935</td>\n",
       "      <td>-0.324935</td>\n",
       "      <td>29135.346866</td>\n",
       "      <td>158.929694</td>\n",
       "      <td>14.474332</td>\n",
       "      <td>-55.679692</td>\n",
       "      <td>1141.621123</td>\n",
       "      <td>1.555687e+04</td>\n",
       "      <td>5.870904e+03</td>\n",
       "      <td>-7.222022e+03</td>\n",
       "      <td>324.363644</td>\n",
       "      <td>5726.816126</td>\n",
       "      <td>146.456937</td>\n",
       "      <td>-165.488581</td>\n",
       "      <td>0.120550</td>\n",
       "      <td>-0.145107</td>\n",
       "      <td>1.990044</td>\n",
       "      <td>0.396500</td>\n",
       "      <td>43.833755</td>\n",
       "      <td>0.3195</td>\n",
       "    </tr>\n",
       "    <tr>\n",
       "      <th>std</th>\n",
       "      <td>121.129254</td>\n",
       "      <td>8.611826e-03</td>\n",
       "      <td>8.611826e-03</td>\n",
       "      <td>0.024766</td>\n",
       "      <td>0.024766</td>\n",
       "      <td>3.603553</td>\n",
       "      <td>0.625687</td>\n",
       "      <td>0.625687</td>\n",
       "      <td>82536.959041</td>\n",
       "      <td>3913.099735</td>\n",
       "      <td>182.876455</td>\n",
       "      <td>1669.877283</td>\n",
       "      <td>945.831969</td>\n",
       "      <td>2.854121e+05</td>\n",
       "      <td>9.228258e+04</td>\n",
       "      <td>1.340305e+05</td>\n",
       "      <td>856.894060</td>\n",
       "      <td>784.601670</td>\n",
       "      <td>46.093265</td>\n",
       "      <td>85.753596</td>\n",
       "      <td>0.128979</td>\n",
       "      <td>0.080289</td>\n",
       "      <td>7.682017</td>\n",
       "      <td>1.290065</td>\n",
       "      <td>3.606978</td>\n",
       "      <td>0.4664</td>\n",
       "    </tr>\n",
       "    <tr>\n",
       "      <th>min</th>\n",
       "      <td>0.241843</td>\n",
       "      <td>2.100000e-08</td>\n",
       "      <td>-1.497000e-01</td>\n",
       "      <td>0.000016</td>\n",
       "      <td>-0.569000</td>\n",
       "      <td>0.001000</td>\n",
       "      <td>0.000000</td>\n",
       "      <td>-8.100000</td>\n",
       "      <td>0.800000</td>\n",
       "      <td>0.080000</td>\n",
       "      <td>0.000000</td>\n",
       "      <td>-72650.000000</td>\n",
       "      <td>101.000000</td>\n",
       "      <td>3.000000e-02</td>\n",
       "      <td>0.000000e+00</td>\n",
       "      <td>-5.362422e+06</td>\n",
       "      <td>0.000000</td>\n",
       "      <td>2900.000000</td>\n",
       "      <td>0.000000</td>\n",
       "      <td>-1762.000000</td>\n",
       "      <td>0.000000</td>\n",
       "      <td>-0.856000</td>\n",
       "      <td>0.132000</td>\n",
       "      <td>0.000000</td>\n",
       "      <td>36.678841</td>\n",
       "      <td>0.0000</td>\n",
       "    </tr>\n",
       "    <tr>\n",
       "      <th>25%</th>\n",
       "      <td>2.350017</td>\n",
       "      <td>4.351000e-06</td>\n",
       "      <td>-3.180250e-04</td>\n",
       "      <td>0.001008</td>\n",
       "      <td>-0.008911</td>\n",
       "      <td>0.228725</td>\n",
       "      <td>0.041925</td>\n",
       "      <td>-0.318736</td>\n",
       "      <td>190.350000</td>\n",
       "      <td>1.567500</td>\n",
       "      <td>0.260000</td>\n",
       "      <td>-3.475000</td>\n",
       "      <td>564.000000</td>\n",
       "      <td>2.395750e+01</td>\n",
       "      <td>1.100750e+01</td>\n",
       "      <td>-5.027050e+02</td>\n",
       "      <td>15.100000</td>\n",
       "      <td>5345.750000</td>\n",
       "      <td>111.000000</td>\n",
       "      <td>-198.000000</td>\n",
       "      <td>0.045000</td>\n",
       "      <td>-0.196000</td>\n",
       "      <td>0.844750</td>\n",
       "      <td>0.143000</td>\n",
       "      <td>40.813760</td>\n",
       "      <td>0.0000</td>\n",
       "    </tr>\n",
       "    <tr>\n",
       "      <th>50%</th>\n",
       "      <td>9.053349</td>\n",
       "      <td>2.674500e-05</td>\n",
       "      <td>-2.674500e-05</td>\n",
       "      <td>0.003575</td>\n",
       "      <td>-0.003575</td>\n",
       "      <td>0.578500</td>\n",
       "      <td>0.124000</td>\n",
       "      <td>-0.124000</td>\n",
       "      <td>520.800000</td>\n",
       "      <td>2.760000</td>\n",
       "      <td>0.640000</td>\n",
       "      <td>-0.370000</td>\n",
       "      <td>941.500000</td>\n",
       "      <td>1.834850e+02</td>\n",
       "      <td>9.683000e+01</td>\n",
       "      <td>-5.279500e+01</td>\n",
       "      <td>31.450000</td>\n",
       "      <td>5766.000000</td>\n",
       "      <td>156.000000</td>\n",
       "      <td>-164.975956</td>\n",
       "      <td>0.074000</td>\n",
       "      <td>-0.142696</td>\n",
       "      <td>1.006000</td>\n",
       "      <td>0.274000</td>\n",
       "      <td>43.665195</td>\n",
       "      <td>0.0000</td>\n",
       "    </tr>\n",
       "    <tr>\n",
       "      <th>75%</th>\n",
       "      <td>38.167180</td>\n",
       "      <td>3.180250e-04</td>\n",
       "      <td>-4.351000e-06</td>\n",
       "      <td>0.008911</td>\n",
       "      <td>-0.001008</td>\n",
       "      <td>0.885250</td>\n",
       "      <td>0.318736</td>\n",
       "      <td>-0.041925</td>\n",
       "      <td>5582.700000</td>\n",
       "      <td>31.140000</td>\n",
       "      <td>6.057500</td>\n",
       "      <td>-0.150000</td>\n",
       "      <td>1453.000000</td>\n",
       "      <td>1.542845e+03</td>\n",
       "      <td>9.491600e+02</td>\n",
       "      <td>-5.755000e+00</td>\n",
       "      <td>163.950000</td>\n",
       "      <td>6109.250000</td>\n",
       "      <td>174.250000</td>\n",
       "      <td>-119.000000</td>\n",
       "      <td>0.137000</td>\n",
       "      <td>-0.095000</td>\n",
       "      <td>1.413500</td>\n",
       "      <td>0.372944</td>\n",
       "      <td>46.813511</td>\n",
       "      <td>1.0000</td>\n",
       "    </tr>\n",
       "    <tr>\n",
       "      <th>max</th>\n",
       "      <td>1071.232624</td>\n",
       "      <td>1.497000e-01</td>\n",
       "      <td>-2.100000e-08</td>\n",
       "      <td>0.569000</td>\n",
       "      <td>-0.000016</td>\n",
       "      <td>100.806000</td>\n",
       "      <td>8.100000</td>\n",
       "      <td>0.000000</td>\n",
       "      <td>907420.000000</td>\n",
       "      <td>161858.000000</td>\n",
       "      <td>5884.000000</td>\n",
       "      <td>0.000000</td>\n",
       "      <td>14667.000000</td>\n",
       "      <td>1.094755e+07</td>\n",
       "      <td>3.617133e+06</td>\n",
       "      <td>0.000000e+00</td>\n",
       "      <td>9054.700000</td>\n",
       "      <td>11360.000000</td>\n",
       "      <td>595.000000</td>\n",
       "      <td>0.000000</td>\n",
       "      <td>0.998000</td>\n",
       "      <td>0.000000</td>\n",
       "      <td>162.725000</td>\n",
       "      <td>33.091000</td>\n",
       "      <td>52.220341</td>\n",
       "      <td>1.0000</td>\n",
       "    </tr>\n",
       "  </tbody>\n",
       "</table>\n",
       "</div>"
      ],
      "text/plain": [
       "        koi_period  koi_period_err1  koi_period_err2  koi_time0bk_err1  \\\n",
       "count  2000.000000     2.000000e+03     2.000000e+03       2000.000000   \n",
       "mean     59.351876     2.239946e-03    -2.239946e-03          0.009407   \n",
       "std     121.129254     8.611826e-03     8.611826e-03          0.024766   \n",
       "min       0.241843     2.100000e-08    -1.497000e-01          0.000016   \n",
       "25%       2.350017     4.351000e-06    -3.180250e-04          0.001008   \n",
       "50%       9.053349     2.674500e-05    -2.674500e-05          0.003575   \n",
       "75%      38.167180     3.180250e-04    -4.351000e-06          0.008911   \n",
       "max    1071.232624     1.497000e-01    -2.100000e-08          0.569000   \n",
       "\n",
       "       koi_time0bk_err2   koi_impact  koi_duration_err1  koi_duration_err2  \\\n",
       "count       2000.000000  2000.000000        2000.000000        2000.000000   \n",
       "mean          -0.009407     0.783689           0.324935          -0.324935   \n",
       "std            0.024766     3.603553           0.625687           0.625687   \n",
       "min           -0.569000     0.001000           0.000000          -8.100000   \n",
       "25%           -0.008911     0.228725           0.041925          -0.318736   \n",
       "50%           -0.003575     0.578500           0.124000          -0.124000   \n",
       "75%           -0.001008     0.885250           0.318736          -0.041925   \n",
       "max           -0.000016   100.806000           8.100000           0.000000   \n",
       "\n",
       "           koi_depth       koi_prad  koi_prad_err1  koi_prad_err2  \\\n",
       "count    2000.000000    2000.000000    2000.000000    2000.000000   \n",
       "mean    29135.346866     158.929694      14.474332     -55.679692   \n",
       "std     82536.959041    3913.099735     182.876455    1669.877283   \n",
       "min         0.800000       0.080000       0.000000  -72650.000000   \n",
       "25%       190.350000       1.567500       0.260000      -3.475000   \n",
       "50%       520.800000       2.760000       0.640000      -0.370000   \n",
       "75%      5582.700000      31.140000       6.057500      -0.150000   \n",
       "max    907420.000000  161858.000000    5884.000000       0.000000   \n",
       "\n",
       "            koi_teq     koi_insol  koi_insol_err1  koi_insol_err2  \\\n",
       "count   2000.000000  2.000000e+03    2.000000e+03    2.000000e+03   \n",
       "mean    1141.621123  1.555687e+04    5.870904e+03   -7.222022e+03   \n",
       "std      945.831969  2.854121e+05    9.228258e+04    1.340305e+05   \n",
       "min      101.000000  3.000000e-02    0.000000e+00   -5.362422e+06   \n",
       "25%      564.000000  2.395750e+01    1.100750e+01   -5.027050e+02   \n",
       "50%      941.500000  1.834850e+02    9.683000e+01   -5.279500e+01   \n",
       "75%     1453.000000  1.542845e+03    9.491600e+02   -5.755000e+00   \n",
       "max    14667.000000  1.094755e+07    3.617133e+06    0.000000e+00   \n",
       "\n",
       "       koi_model_snr     koi_steff  koi_steff_err1  koi_steff_err2  \\\n",
       "count    2000.000000   2000.000000     2000.000000     2000.000000   \n",
       "mean      324.363644   5726.816126      146.456937     -165.488581   \n",
       "std       856.894060    784.601670       46.093265       85.753596   \n",
       "min         0.000000   2900.000000        0.000000    -1762.000000   \n",
       "25%        15.100000   5345.750000      111.000000     -198.000000   \n",
       "50%        31.450000   5766.000000      156.000000     -164.975956   \n",
       "75%       163.950000   6109.250000      174.250000     -119.000000   \n",
       "max      9054.700000  11360.000000      595.000000        0.000000   \n",
       "\n",
       "       koi_slogg_err1  koi_slogg_err2     koi_srad  koi_srad_err1  \\\n",
       "count     2000.000000     2000.000000  2000.000000    2000.000000   \n",
       "mean         0.120550       -0.145107     1.990044       0.396500   \n",
       "std          0.128979        0.080289     7.682017       1.290065   \n",
       "min          0.000000       -0.856000     0.132000       0.000000   \n",
       "25%          0.045000       -0.196000     0.844750       0.143000   \n",
       "50%          0.074000       -0.142696     1.006000       0.274000   \n",
       "75%          0.137000       -0.095000     1.413500       0.372944   \n",
       "max          0.998000        0.000000   162.725000      33.091000   \n",
       "\n",
       "               dec  koi_disposition  \n",
       "count  2000.000000        2000.0000  \n",
       "mean     43.833755           0.3195  \n",
       "std       3.606978           0.4664  \n",
       "min      36.678841           0.0000  \n",
       "25%      40.813760           0.0000  \n",
       "50%      43.665195           0.0000  \n",
       "75%      46.813511           1.0000  \n",
       "max      52.220341           1.0000  "
      ]
     },
     "execution_count": 3,
     "metadata": {},
     "output_type": "execute_result"
    }
   ],
   "source": [
    "df.describe()"
   ]
  },
  {
   "cell_type": "code",
   "execution_count": 4,
   "metadata": {},
   "outputs": [],
   "source": [
    "y = df['koi_disposition'].values\n",
    "X = df.drop('koi_disposition', axis=1).values.astype('float32')"
   ]
  },
  {
   "cell_type": "markdown",
   "metadata": {},
   "source": [
    "Separate the data (30% test)"
   ]
  },
  {
   "cell_type": "code",
   "execution_count": 5,
   "metadata": {},
   "outputs": [],
   "source": [
    "(X_train, X_test,  y_train, y_test) = cv.train_test_split(X, y, test_size=.3, stratify = y, random_state=1)"
   ]
  },
  {
   "cell_type": "code",
   "execution_count": 6,
   "metadata": {},
   "outputs": [],
   "source": [
    "from sklearn.preprocessing import MinMaxScaler, StandardScaler\n",
    "\n",
    "#scaler = StandardScaler().fit(X_train)\n",
    "scaler = MinMaxScaler(feature_range=(-1, 1)).fit(X_train)\n",
    "\n",
    "# Apply the normalization trained in training data in both training and test sets\n",
    "X_train = scaler.transform(X_train)\n",
    "X_test = scaler.transform(X_test)"
   ]
  },
  {
   "cell_type": "markdown",
   "metadata": {},
   "source": [
    "## Linear"
   ]
  },
  {
   "cell_type": "code",
   "execution_count": 7,
   "metadata": {},
   "outputs": [
    {
     "name": "stdout",
     "output_type": "stream",
     "text": [
      "Confusion matrix on test set:\n",
      " [[387  21]\n",
      " [ 54 138]]\n",
      "\n",
      "Accuracy on test set:  0.875\n"
     ]
    }
   ],
   "source": [
    "#knc = LinearSVC() \n",
    "knc = SVC(kernel='linear')\n",
    "knc.fit(X_train, y_train)\n",
    "pred = knc.predict(X_test)\n",
    "\n",
    "print(\"Confusion matrix on test set:\\n\", sk.metrics.confusion_matrix(y_test, pred))\n",
    "print(\"\\nAccuracy on test set: \", sk.metrics.accuracy_score(y_test, pred))"
   ]
  },
  {
   "cell_type": "code",
   "execution_count": 8,
   "metadata": {},
   "outputs": [],
   "source": [
    "# List of C values to test. We usualy test diverse orders of magnitude\n",
    "Cs = np.logspace(-3, 6, num=10, base=10.0)\n",
    "#Cs = np.logspace(-3, 5, num=9, base=10.0)\n",
    "\n",
    "param_grid = {'C': Cs}\n",
    "#grid_search = GridSearchCV(LinearSVC(), param_grid, cv=10)\n",
    "grid_search = GridSearchCV(SVC(kernel='linear'), param_grid, cv=5, n_jobs=-1, scoring='f1')\n",
    "grid_search.fit(X_train, y_train)\n",
    "\n",
    "# Let's plot the 10-fold cross.validation accuracy deppending on C\n",
    "scores = grid_search.cv_results_['mean_test_score']"
   ]
  },
  {
   "cell_type": "code",
   "execution_count": 9,
   "metadata": {},
   "outputs": [
    {
     "name": "stdout",
     "output_type": "stream",
     "text": [
      "Acc. 5-fold cross on train data=  0.854908130675442\n"
     ]
    },
    {
     "data": {
      "image/png": "[encoded data removed]",
      "text/plain": [
       "<Figure size 432x288 with 1 Axes>"
      ]
     },
     "metadata": {
      "needs_background": "light"
     },
     "output_type": "display_data"
    }
   ],
   "source": [
    "plt.semilogx(Cs,scores)\n",
    "plt.ylabel('F1 score')\n",
    "plt.xlabel('C')\n",
    "plt.savefig('../figures/svm_linear_C_cv.pdf')\n",
    "\n",
    "parval=grid_search.best_params_\n",
    "cvacc = cross_val_score(SVC(C=parval['C'],kernel='linear'), X=X_train,  y=y_train, cv=5, scoring='f1', n_jobs=-1)\n",
    "print('F1 score 5-fold cross on train data= ', cvacc.mean())\n",
    "\n",
    "# Let's apply the best C parameter found to the test set"
   ]
  },
  {
   "cell_type": "code",
   "execution_count": 10,
   "metadata": {},
   "outputs": [
    {
     "name": "stdout",
     "output_type": "stream",
     "text": [
      "\n",
      "Confusion matrix on test set:\n",
      " [[383  25]\n",
      " [ 26 166]]\n",
      "\n",
      "Accuracy on test set:  0.915\n",
      "\\F1 score on test set:  0.8668407310704961\n",
      "\n",
      "Best value of parameter C found:  {'C': 100000.0}\n",
      "\n",
      "Number of supports:  288 ( 269 of them have slacks)\n",
      "Prop. of supports:  0.2057142857142857\n"
     ]
    }
   ],
   "source": [
    "#knc = LinearSVC(C=parval['C']) \n",
    "svcl = SVC(C=parval['C'], kernel='linear')\n",
    "svcl.fit(X_train, y_train)\n",
    "pred = svcl.predict(X_test)\n",
    "\n",
    "print(\"\\nConfusion matrix on test set:\\n\", sk.metrics.confusion_matrix(y_test, pred))\n",
    "print(\"\\nAccuracy on test set: \", sk.metrics.accuracy_score(y_test, pred))\n",
    "print(\"\\nF1 score on test set: \", sk.metrics.f1_score(y_test, pred))\n",
    "print(\"\\nBest value of parameter C found: \", parval)\n",
    "print(\"\\nNumber of supports: \", np.sum(svcl.n_support_), \"(\",np.sum(np.abs(svcl.dual_coef_)==parval['C']) ,\"of them have slacks)\")\n",
    "print(\"Prop. of supports: \", np.sum(svcl.n_support_)/X_train.shape[0])"
   ]
  },
  {
   "cell_type": "markdown",
   "metadata": {},
   "source": [
    "## Poly"
   ]
  },
  {
   "cell_type": "code",
   "execution_count": 11,
   "metadata": {},
   "outputs": [
    {
     "name": "stdout",
     "output_type": "stream",
     "text": [
      "Confusion matrix on test set:\n",
      " [[383  25]\n",
      " [ 61 131]]\n",
      "\n",
      "Accuracy on test set:  0.8566666666666667\n"
     ]
    }
   ],
   "source": [
    "svcp2 = SVC(kernel='poly', degree=2) \n",
    "svcp2.fit(X_train, y_train)\n",
    "\n",
    "pred = svcp2.predict(X_test)\n",
    "print(\"Confusion matrix on test set:\\n\",sk.metrics.confusion_matrix(y_test, pred))\n",
    "print(\"\\nAccuracy on test set: \",sk.metrics.accuracy_score(y_test, pred))"
   ]
  },
  {
   "cell_type": "code",
   "execution_count": 12,
   "metadata": {},
   "outputs": [],
   "source": [
    "Cs = np.logspace(-3, 6, num=10, base=10.0)\n",
    "\n",
    "param_grid = {'C': Cs}\n",
    "grid_search = GridSearchCV(SVC(kernel='poly', degree=2) , param_grid, cv=5, n_jobs=-1, scoring='f1')\n",
    "grid_search.fit(X_train, y_train)\n",
    "\n",
    "scores = grid_search.cv_results_['mean_test_score']"
   ]
  },
  {
   "cell_type": "code",
   "execution_count": 13,
   "metadata": {},
   "outputs": [
    {
     "data": {
      "image/png": "[encoded data removed]",
      "text/plain": [
       "<Figure size 432x288 with 1 Axes>"
      ]
     },
     "metadata": {
      "needs_background": "light"
     },
     "output_type": "display_data"
    }
   ],
   "source": [
    "plt.semilogx(Cs,scores)\n",
    "plt.ylabel('F1 score')\n",
    "plt.xlabel('C')\n",
    "plt.savefig('../figures/svm_poly_C_cv.pdf')"
   ]
  },
  {
   "cell_type": "code",
   "execution_count": 14,
   "metadata": {},
   "outputs": [
    {
     "name": "stdout",
     "output_type": "stream",
     "text": [
      "Acc. 5-fold cross on train data=  0.8464941662682148\n"
     ]
    }
   ],
   "source": [
    "parval = grid_search.best_params_\n",
    "\n",
    "cvacc = cross_val_score(SVC(kernel='poly', degree=2, C=parval['C']) , X=X_train,  y=y_train, cv=5, scoring='f1', n_jobs=-1)\n",
    "print('F1 score 5-fold cross on train data= ', cvacc.mean())\n",
    "\n",
    "svcp2 = SVC(kernel='poly', degree=2, C=parval['C']) \n",
    "svcp2.fit(X_train, y_train)\n",
    "pred = svcp2.predict(X_test)"
   ]
  },
  {
   "cell_type": "code",
   "execution_count": 15,
   "metadata": {},
   "outputs": [
    {
     "name": "stdout",
     "output_type": "stream",
     "text": [
      "\n",
      "Confusion matrix on test set:\n",
      " [[380  28]\n",
      " [ 28 164]]\n",
      "\n",
      "Accuracy on test set:  0.9066666666666666\n",
      "\\F1 score on test set:  0.8541666666666666\n",
      "\n",
      "Best combination of parameters found:  {'C': 10000.0}\n",
      "\n",
      "Number of supports:  332 ( 283 of them have slacks)\n",
      "Prop. of supports:  0.23714285714285716\n"
     ]
    }
   ],
   "source": [
    "print(\"\\nConfusion matrix on test set:\\n\", sk.metrics.confusion_matrix(y_test, pred))\n",
    "print(\"\\nAccuracy on test set: \", sk.metrics.accuracy_score(y_test, pred))\n",
    "print(\"\\nF1 score on test set: \", sk.metrics.f1_score(y_test, pred))\n",
    "print(\"\\nBest combination of parameters found: \",parval)\n",
    "print(\"\\nNumber of supports: \",np.sum(svcp2.n_support_), \"(\",np.sum(np.abs(svcp2.dual_coef_)==parval['C']) ,\"of them have slacks)\")\n",
    "print(\"Prop. of supports: \",np.sum(svcp2.n_support_)/X_train.shape[0])"
   ]
  },
  {
   "cell_type": "markdown",
   "metadata": {},
   "source": [
    "## Poly3"
   ]
  },
  {
   "cell_type": "code",
   "execution_count": 16,
   "metadata": {},
   "outputs": [
    {
     "name": "stdout",
     "output_type": "stream",
     "text": [
      "Confusion matrix on test set:\n",
      " [[387  21]\n",
      " [ 56 136]]\n",
      "\n",
      "Accuracy on test set:  0.8716666666666667\n"
     ]
    }
   ],
   "source": [
    "svcp3 = SVC(kernel='poly', degree=3) \n",
    "svcp3.fit(X_train, y_train)\n",
    "pred = svcp3.predict(X_test)\n",
    "\n",
    "print(\"Confusion matrix on test set:\\n\", sk.metrics.confusion_matrix(y_test, pred))\n",
    "print(\"\\nAccuracy on test set: \", sk.metrics.accuracy_score(y_test, pred))"
   ]
  },
  {
   "cell_type": "code",
   "execution_count": 17,
   "metadata": {},
   "outputs": [],
   "source": [
    "Cs = np.logspace(-3, 6, num=10, base=10.0)\n",
    "\n",
    "param_grid = {'C': Cs}\n",
    "grid_search = GridSearchCV(SVC(kernel='poly', degree=3) , param_grid, cv=5, n_jobs=-1, scoring='f1')\n",
    "grid_search.fit(X_train,y_train)\n",
    "\n",
    "scores = grid_search.cv_results_['mean_test_score']"
   ]
  },
  {
   "cell_type": "code",
   "execution_count": 18,
   "metadata": {},
   "outputs": [
    {
     "data": {
      "image/png": "[encoded data removed]",
      "text/plain": [
       "<Figure size 432x288 with 1 Axes>"
      ]
     },
     "metadata": {
      "needs_background": "light"
     },
     "output_type": "display_data"
    }
   ],
   "source": [
    "plt.semilogx(Cs, scores)\n",
    "plt.ylabel('F1 score')\n",
    "plt.xlabel('C')\n",
    "plt.savefig('../figures/svm_poly3_C_cv.pdf')"
   ]
  },
  {
   "cell_type": "code",
   "execution_count": 19,
   "metadata": {},
   "outputs": [
    {
     "name": "stdout",
     "output_type": "stream",
     "text": [
      "Acc. 5-fold cross on train data=  0.8372648250478765\n"
     ]
    }
   ],
   "source": [
    "parval = grid_search.best_params_\n",
    "\n",
    "cvacc = cross_val_score(SVC(kernel='poly', degree=3, C=parval['C']) , X=X_train,  y=y_train, cv=5, scoring='f1', n_jobs=-1)\n",
    "print('F1 score 5-fold cross on train data= ', cvacc.mean())\n",
    "\n",
    "svcp3 = SVC(kernel='poly', degree=3, C=parval['C']) \n",
    "svcp3.fit(X_train, y_train)\n",
    "pred = svcp3.predict(X_test)"
   ]
  },
  {
   "cell_type": "code",
   "execution_count": 20,
   "metadata": {},
   "outputs": [
    {
     "name": "stdout",
     "output_type": "stream",
     "text": [
      "\n",
      "Confusion matrix on test set:\n",
      " [[381  27]\n",
      " [ 30 162]]\n",
      "\n",
      "Accuracy on test set:  0.905\n",
      "\\F1 score on test set:  0.8503937007874015\n",
      "\n",
      "Best combination of parameters found:  {'C': 1000.0}\n",
      "\n",
      "Number of supports:  356 ( 317 of them have slacks)\n",
      "Prop. of supports:  0.2542857142857143\n"
     ]
    }
   ],
   "source": [
    "print(\"\\nConfusion matrix on test set:\\n\", sk.metrics.confusion_matrix(y_test, pred))\n",
    "print(\"\\nAccuracy on test set: \", sk.metrics.accuracy_score(y_test, pred))\n",
    "print(\"\\nF1 score on test set: \", sk.metrics.f1_score(y_test, pred))\n",
    "print(\"\\nBest combination of parameters found: \", parval)\n",
    "print(\"\\nNumber of supports: \",np.sum(svcp3.n_support_), \"(\",np.sum(np.abs(svcp3.dual_coef_)==parval['C']) ,\"of them have slacks)\")\n",
    "print(\"Prop. of supports: \",np.sum(svcp3.n_support_)/X_train.shape[0])"
   ]
  },
  {
   "cell_type": "markdown",
   "metadata": {},
   "source": [
    "## RBF Kernel"
   ]
  },
  {
   "cell_type": "code",
   "execution_count": 21,
   "metadata": {},
   "outputs": [
    {
     "name": "stdout",
     "output_type": "stream",
     "text": [
      "Confusion matrix on test set:\n",
      " [[383  25]\n",
      " [ 65 127]]\n",
      "\n",
      "Accuracy on test set:  0.85\n"
     ]
    }
   ],
   "source": [
    "svcrbf = SVC() \n",
    "svcrbf.fit(X_train, y_train)\n",
    "pred = svcrbf.predict(X_test)\n",
    "print(\"Confusion matrix on test set:\\n\", sk.metrics.confusion_matrix(y_test, pred))\n",
    "print(\"\\nAccuracy on test set: \", sk.metrics.accuracy_score(y_test, pred))"
   ]
  },
  {
   "cell_type": "code",
   "execution_count": 22,
   "metadata": {},
   "outputs": [],
   "source": [
    "# Values we will test for each parameter. When observin results, consider the limits of the \n",
    "# values tested and increase them if necessary \n",
    "gammas = [0.000001, 0.00001, 0.0001, 0.001, 0.01, 0.1, 1, 10]\n",
    "Cs = np.logspace(-1, 6, num=8, base=10.0)\n",
    "\n",
    "param_grid = {'C': Cs, 'gamma' : gammas}\n",
    "grid_search = GridSearchCV(SVC(), param_grid, cv=5, n_jobs=-1, scoring='f1')\n",
    "grid_search.fit(X_train,y_train)\n",
    "parval=grid_search.best_params_\n",
    "\n",
    "# We'll show in a grid, the accuracy for each combination of parameters tester\n",
    "scores = grid_search.cv_results_['mean_test_score']\n",
    "scores = np.array(scores).reshape(len(param_grid['C']), len(param_grid['gamma']))"
   ]
  },
  {
   "cell_type": "code",
   "execution_count": 23,
   "metadata": {},
   "outputs": [
    {
     "name": "stdout",
     "output_type": "stream",
     "text": [
      "\n",
      "Best combination of parameters found:  {'C': 1000000.0, 'gamma': 0.001}\n",
      "\n",
      "Acc. 5-fold cross on train data=  0.8497717909829922\n"
     ]
    },
    {
     "data": {
      "image/png": "[encoded data removed]",
      "text/plain": [
       "<Figure size 288x288 with 2 Axes>"
      ]
     },
     "metadata": {
      "needs_background": "light"
     },
     "output_type": "display_data"
    }
   ],
   "source": [
    "plt.matshow(scores)\n",
    "plt.xlabel('gamma')\n",
    "plt.ylabel('C')\n",
    "plt.colorbar(label='F1 score')\n",
    "plt.grid(b=None)\n",
    "plt.xticks(np.arange(len(param_grid['gamma'])), param_grid['gamma'], rotation='vertical')\n",
    "plt.yticks(np.arange(len(param_grid['C'])), param_grid['C'])\n",
    "plt.savefig(\"../figures/svm_rbf_C_cv.pdf\")\n",
    "\n",
    "parval = grid_search.best_params_\n",
    "print(\"\\nBest combination of parameters found: \", parval)\n",
    "\n",
    "cvacc = cross_val_score(SVC(C=parval['C'], gamma=parval['gamma']) , X=X_train,  y=y_train, cv=5, scoring='f1', n_jobs=-1)\n",
    "print('\\nF1 score 5-fold cross on train data= ', cvacc.mean())"
   ]
  },
  {
   "cell_type": "code",
   "execution_count": 24,
   "metadata": {},
   "outputs": [
    {
     "name": "stdout",
     "output_type": "stream",
     "text": [
      "Confusion matrix on test set:\n",
      " [[381  27]\n",
      " [ 28 164]]\n",
      "\n",
      "Accuracy on test set:  0.9083333333333333\n",
      "\n",
      "F1 score on test set:  0.8563968668407309\n",
      "\n",
      "Number of supports:  330 ( 302 of them have slacks)\n",
      "Prop. of supports:  0.2357142857142857\n"
     ]
    }
   ],
   "source": [
    "svcrbf = SVC(C=parval['C'], gamma=parval['gamma']) \n",
    "svcrbf.fit(X_train, y_train)\n",
    "pred = svcrbf.predict(X_test)\n",
    "\n",
    "print(\"Confusion matrix on test set:\\n\", sk.metrics.confusion_matrix(y_test, pred))\n",
    "print(\"\\nAccuracy on test set: \", sk.metrics.accuracy_score(y_test, pred))\n",
    "print(\"\\nF1 score on test set: \", sk.metrics.f1_score(y_test, pred))\n",
    "print(\"\\nNumber of supports: \",np.sum(svcrbf.n_support_), \"(\",np.sum(np.abs(svcrbf.dual_coef_)==parval['C']) ,\"of them have slacks)\")\n",
    "print(\"Prop. of supports: \",np.sum(svcrbf.n_support_)/X_train.shape[0])"
   ]
  },
  {
   "cell_type": "code",
   "execution_count": 25,
   "metadata": {},
   "outputs": [],
   "source": [
    "import pickle\n",
    "\n",
    "with open('pickles/svm_lineal.pkl', 'wb') as out:\n",
    "    pickle.dump(svcl, out)\n",
    "    \n",
    "with open('pickles/svm_poly2.pkl', 'wb') as out:\n",
    "    pickle.dump(svcp2, out)\n",
    "    \n",
    "with open('pickles/svm_poly3.pkl', 'wb') as out:\n",
    "    pickle.dump(svcp3, out)\n",
    "\n",
    "with open('pickles/svm_rbf.pkl', 'wb') as out:\n",
    "    pickle.dump(svcrbf, out)"
   ]
  }
 ],
 "metadata": {
  "kernelspec": {
   "display_name": "Python 3",
   "language": "python",
   "name": "python3"
  },
  "language_info": {
   "codemirror_mode": {
    "name": "ipython",
    "version": 3
   },
   "file_extension": ".py",
   "mimetype": "text/x-python",
   "name": "python",
   "nbconvert_exporter": "python",
   "pygments_lexer": "ipython3",
   "version": "3.8.5"
  }
 },
 "nbformat": 4,
 "nbformat_minor": 4
}
