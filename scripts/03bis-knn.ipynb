{
 "cells": [
  {
   "cell_type": "code",
   "execution_count": null,
   "metadata": {
    "collapsed": true
   },
   "outputs": [],
   "source": [
    "import numpy as np\n",
    "import pandas as pd\n",
    "import matplotlib.pyplot as plt\n",
    "from sklearn.model_selection import train_test_split\n",
    "from sklearn.decomposition import PCA\n",
    "from sklearn.discriminant_analysis import LinearDiscriminantAnalysis\n",
    "from sklearn.neighbors import (KNeighborsClassifier,\n",
    "                               NeighborhoodComponentsAnalysis)\n",
    "from sklearn.pipeline import make_pipeline\n",
    "from sklearn.preprocessing import StandardScaler"
   ]
  },
  {
   "cell_type": "code",
   "execution_count": null,
   "outputs": [],
   "source": [
    "df = pd.read_csv('../feature_selection.csv')\n",
    "df.head()"
   ],
   "metadata": {
    "collapsed": false,
    "pycharm": {
     "name": "#%%\n"
    }
   }
  },
  {
   "cell_type": "code",
   "execution_count": null,
   "outputs": [],
   "source": [
    "n = 50\n",
    "random_state = 42\n",
    "\n",
    "X = df.drop(\"koi_disposition\", axis=1)\n",
    "y = df[\"koi_disposition\"]"
   ],
   "metadata": {
    "collapsed": false,
    "pycharm": {
     "name": "#%%\n"
    }
   }
  },
  {
   "cell_type": "code",
   "execution_count": null,
   "outputs": [],
   "source": [
    "# Split into train/test\n",
    "X_train, X_test, y_train, y_test = \\\n",
    "    train_test_split(X, y, test_size=0.3, stratify=y,\n",
    "                     random_state=random_state)"
   ],
   "metadata": {
    "collapsed": false,
    "pycharm": {
     "name": "#%%\n"
    }
   }
  },
  {
   "cell_type": "code",
   "execution_count": null,
   "outputs": [],
   "source": [
    "best = 0\n",
    "bestn = 1\n",
    "bestm = \"\"\n",
    "res = {}\n",
    "for n_neighbors in range(1,n) :\n",
    "    pca = make_pipeline(StandardScaler(),\n",
    "                        PCA(random_state=random_state))\n",
    "    lda = make_pipeline(StandardScaler(),\n",
    "                        LinearDiscriminantAnalysis())\n",
    "    nca = make_pipeline(StandardScaler(),\n",
    "                        NeighborhoodComponentsAnalysis(random_state=random_state))\n",
    "    knn = KNeighborsClassifier(n_neighbors=n_neighbors)\n",
    "    # Make a list of the methods to be compared\n",
    "    dim_reduction_methods = [('PCA', pca), ('LDA', lda), ('NCA', nca)]\n",
    "\n",
    "    for i, (name, model) in enumerate(dim_reduction_methods):\n",
    "        model.fit(X_train, y_train)\n",
    "        knn.fit(model.transform(X_train), y_train)\n",
    "        acc_knn = knn.score(model.transform(X_test), y_test)\n",
    "        if acc_knn > best:\n",
    "            best = acc_knn\n",
    "            bestn = n_neighbors\n",
    "            bestm = name\n",
    "        if name not in res.keys():\n",
    "            res[name] = [acc_knn]\n",
    "        else: res[name].append(acc_knn)\n",
    "print(\"The best value was found with \", bestm, \" and parameter k = \", bestn)"
   ],
   "metadata": {
    "collapsed": false,
    "pycharm": {
     "name": "#%%\n"
    }
   }
  },
  {
   "cell_type": "code",
   "execution_count": null,
   "outputs": [],
   "source": [
    "xaxis = range(1,n)\n",
    "plt.plot(xaxis, res['PCA'], label = 'PCA')\n",
    "plt.plot(xaxis, res['LDA'], label = 'LDA')\n",
    "plt.plot(xaxis, res['NCA'], label = 'NCA')\n",
    "plt.xlabel(\"K value\")\n",
    "plt.grid(True)\n",
    "plt.legend()\n",
    "plt.savefig(\"../figures/knn.pdf\")"
   ],
   "metadata": {
    "collapsed": false,
    "pycharm": {
     "name": "#%%\n"
    }
   }
  }
 ],
 "metadata": {
  "kernelspec": {
   "display_name": "Python 3",
   "language": "python",
   "name": "python3"
  },
  "language_info": {
   "codemirror_mode": {
    "name": "ipython",
    "version": 2
   },
   "file_extension": ".py",
   "mimetype": "text/x-python",
   "name": "python",
   "nbconvert_exporter": "python",
   "pygments_lexer": "ipython2",
   "version": "2.7.6"
  }
 },
 "nbformat": 4,
 "nbformat_minor": 0
}