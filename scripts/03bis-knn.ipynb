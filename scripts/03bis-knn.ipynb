{
 "cells": [
  {
   "cell_type": "code",
   "execution_count": 132,
   "metadata": {
    "collapsed": true
   },
   "outputs": [],
   "source": [
    "import numpy as np\n",
    "import pandas as pd\n",
    "import matplotlib.pyplot as plt\n",
    "from sklearn.model_selection import train_test_split\n",
    "from sklearn.decomposition import PCA\n",
    "from sklearn.discriminant_analysis import LinearDiscriminantAnalysis\n",
    "from sklearn.neighbors import (KNeighborsClassifier,\n",
    "                               NeighborhoodComponentsAnalysis)\n",
    "from sklearn.pipeline import make_pipeline\n",
    "from sklearn.preprocessing import StandardScaler"
   ]
  },
  {
   "cell_type": "code",
   "execution_count": 133,
   "outputs": [
    {
     "data": {
      "text/plain": "   Unnamed: 0  koi_fpflag_nt  koi_fpflag_ss  koi_fpflag_ec  koi_time0bk  \\\n0        3625              0              0              0   215.520400   \n1         362              0              1              0   134.365782   \n2        8826              1              0              0   141.074600   \n3        2757              0              0              0   173.903550   \n4        6557              1              0              0   263.471000   \n\n   koi_time0bk_err1  koi_duration  koi_duration_err1  koi_depth_err2  \\\n0          0.008060        8.0290             0.2100           -42.2   \n1          0.000745        9.0419             0.0550           -63.7   \n2          0.014000        2.3060             0.5980           -42.3   \n3          0.001380        5.1803             0.0504           -14.5   \n4          0.031900       18.1800             1.4000           -16.5   \n\n   koi_prad  koi_prad_err1  koi_insol_err2  koi_tce_plnt_num  koi_steff  \\\n0      1.61           0.10           -0.11               1.0     4133.0   \n1     16.91           6.01         -255.78               1.0     6715.0   \n2      1.22           0.51           -6.05               1.0     6046.0   \n3      3.56           0.57          -11.96               1.0     5951.0   \n4      2.85           1.25           -1.62               1.0     5636.0   \n\n   koi_steff_err1  koi_slogg  koi_slogg_err1  koi_srad  koi_disposition  \n0            74.0      4.705           0.023     0.561                1  \n1           161.0      4.347           0.056     1.241                0  \n2           172.0      4.486           0.044     0.972                0  \n3           107.0      4.319           0.120     1.155                1  \n4           173.0      3.809           0.459     2.357                0  ",
      "text/html": "<div>\n<style scoped>\n    .dataframe tbody tr th:only-of-type {\n        vertical-align: middle;\n    }\n\n    .dataframe tbody tr th {\n        vertical-align: top;\n    }\n\n    .dataframe thead th {\n        text-align: right;\n    }\n</style>\n<table border=\"1\" class=\"dataframe\">\n  <thead>\n    <tr style=\"text-align: right;\">\n      <th></th>\n      <th>Unnamed: 0</th>\n      <th>koi_fpflag_nt</th>\n      <th>koi_fpflag_ss</th>\n      <th>koi_fpflag_ec</th>\n      <th>koi_time0bk</th>\n      <th>koi_time0bk_err1</th>\n      <th>koi_duration</th>\n      <th>koi_duration_err1</th>\n      <th>koi_depth_err2</th>\n      <th>koi_prad</th>\n      <th>koi_prad_err1</th>\n      <th>koi_insol_err2</th>\n      <th>koi_tce_plnt_num</th>\n      <th>koi_steff</th>\n      <th>koi_steff_err1</th>\n      <th>koi_slogg</th>\n      <th>koi_slogg_err1</th>\n      <th>koi_srad</th>\n      <th>koi_disposition</th>\n    </tr>\n  </thead>\n  <tbody>\n    <tr>\n      <th>0</th>\n      <td>3625</td>\n      <td>0</td>\n      <td>0</td>\n      <td>0</td>\n      <td>215.520400</td>\n      <td>0.008060</td>\n      <td>8.0290</td>\n      <td>0.2100</td>\n      <td>-42.2</td>\n      <td>1.61</td>\n      <td>0.10</td>\n      <td>-0.11</td>\n      <td>1.0</td>\n      <td>4133.0</td>\n      <td>74.0</td>\n      <td>4.705</td>\n      <td>0.023</td>\n      <td>0.561</td>\n      <td>1</td>\n    </tr>\n    <tr>\n      <th>1</th>\n      <td>362</td>\n      <td>0</td>\n      <td>1</td>\n      <td>0</td>\n      <td>134.365782</td>\n      <td>0.000745</td>\n      <td>9.0419</td>\n      <td>0.0550</td>\n      <td>-63.7</td>\n      <td>16.91</td>\n      <td>6.01</td>\n      <td>-255.78</td>\n      <td>1.0</td>\n      <td>6715.0</td>\n      <td>161.0</td>\n      <td>4.347</td>\n      <td>0.056</td>\n      <td>1.241</td>\n      <td>0</td>\n    </tr>\n    <tr>\n      <th>2</th>\n      <td>8826</td>\n      <td>1</td>\n      <td>0</td>\n      <td>0</td>\n      <td>141.074600</td>\n      <td>0.014000</td>\n      <td>2.3060</td>\n      <td>0.5980</td>\n      <td>-42.3</td>\n      <td>1.22</td>\n      <td>0.51</td>\n      <td>-6.05</td>\n      <td>1.0</td>\n      <td>6046.0</td>\n      <td>172.0</td>\n      <td>4.486</td>\n      <td>0.044</td>\n      <td>0.972</td>\n      <td>0</td>\n    </tr>\n    <tr>\n      <th>3</th>\n      <td>2757</td>\n      <td>0</td>\n      <td>0</td>\n      <td>0</td>\n      <td>173.903550</td>\n      <td>0.001380</td>\n      <td>5.1803</td>\n      <td>0.0504</td>\n      <td>-14.5</td>\n      <td>3.56</td>\n      <td>0.57</td>\n      <td>-11.96</td>\n      <td>1.0</td>\n      <td>5951.0</td>\n      <td>107.0</td>\n      <td>4.319</td>\n      <td>0.120</td>\n      <td>1.155</td>\n      <td>1</td>\n    </tr>\n    <tr>\n      <th>4</th>\n      <td>6557</td>\n      <td>1</td>\n      <td>0</td>\n      <td>0</td>\n      <td>263.471000</td>\n      <td>0.031900</td>\n      <td>18.1800</td>\n      <td>1.4000</td>\n      <td>-16.5</td>\n      <td>2.85</td>\n      <td>1.25</td>\n      <td>-1.62</td>\n      <td>1.0</td>\n      <td>5636.0</td>\n      <td>173.0</td>\n      <td>3.809</td>\n      <td>0.459</td>\n      <td>2.357</td>\n      <td>0</td>\n    </tr>\n  </tbody>\n</table>\n</div>"
     },
     "execution_count": 133,
     "metadata": {},
     "output_type": "execute_result"
    }
   ],
   "source": [
    "df = pd.read_csv('../feature_selection.csv')\n",
    "df.head()"
   ],
   "metadata": {
    "collapsed": false,
    "pycharm": {
     "name": "#%%\n"
    }
   }
  },
  {
   "cell_type": "code",
   "execution_count": 134,
   "outputs": [],
   "source": [
    "n = 30\n",
    "random_state = 42\n",
    "\n",
    "# Load Digits dataset\n",
    "X = df.drop(\"koi_disposition\", axis=1)\n",
    "y = df[\"koi_disposition\"]"
   ],
   "metadata": {
    "collapsed": false,
    "pycharm": {
     "name": "#%%\n"
    }
   }
  },
  {
   "cell_type": "code",
   "execution_count": 135,
   "outputs": [],
   "source": [
    "# Split into train/test\n",
    "X_train, X_test, y_train, y_test = \\\n",
    "    train_test_split(X, y, test_size=0.3, stratify=y,\n",
    "                     random_state=random_state)"
   ],
   "metadata": {
    "collapsed": false,
    "pycharm": {
     "name": "#%%\n"
    }
   }
  },
  {
   "cell_type": "code",
   "execution_count": 136,
   "outputs": [],
   "source": [
    "n_classes = len(np.unique(y))\n",
    "n_features = len(df.columns)"
   ],
   "metadata": {
    "collapsed": false,
    "pycharm": {
     "name": "#%%\n"
    }
   }
  },
  {
   "cell_type": "code",
   "execution_count": 137,
   "outputs": [
    {
     "name": "stdout",
     "output_type": "stream",
     "text": [
      "0.9383333333333334\n",
      "0.9066666666666666\n",
      "0.9366666666666666\n",
      "0.9316666666666666\n",
      "0.8916666666666667\n",
      "0.94\n",
      "0.94\n",
      "0.9266666666666666\n",
      "0.94\n",
      "0.9383333333333334\n",
      "0.92\n",
      "0.9416666666666667\n",
      "0.945\n",
      "0.935\n",
      "0.94\n",
      "0.9416666666666667\n",
      "0.9283333333333333\n",
      "0.94\n",
      "0.9466666666666667\n",
      "0.93\n",
      "0.9466666666666667\n",
      "0.9433333333333334\n",
      "0.93\n",
      "0.9433333333333334\n",
      "0.9433333333333334\n",
      "0.9333333333333333\n",
      "0.945\n",
      "0.945\n",
      "0.93\n",
      "0.9483333333333334\n",
      "0.9483333333333334\n",
      "0.935\n",
      "0.9416666666666667\n",
      "0.9433333333333334\n",
      "0.9383333333333334\n",
      "0.9416666666666667\n",
      "0.945\n",
      "0.935\n",
      "0.9383333333333334\n",
      "0.945\n",
      "0.9383333333333334\n",
      "0.94\n",
      "0.9483333333333334\n",
      "0.9416666666666667\n",
      "0.9366666666666666\n",
      "0.95\n",
      "0.9383333333333334\n",
      "0.9383333333333334\n",
      "0.9466666666666667\n",
      "0.9433333333333334\n",
      "0.935\n",
      "0.945\n",
      "0.94\n",
      "0.935\n",
      "0.9433333333333334\n",
      "0.9433333333333334\n",
      "0.9316666666666666\n",
      "0.9433333333333334\n",
      "0.945\n",
      "0.9316666666666666\n",
      "0.9433333333333334\n",
      "0.94\n",
      "0.9283333333333333\n",
      "0.9433333333333334\n",
      "0.9416666666666667\n",
      "0.9333333333333333\n",
      "0.9433333333333334\n",
      "0.9416666666666667\n",
      "0.93\n",
      "0.9416666666666667\n",
      "0.9416666666666667\n",
      "0.93\n",
      "0.945\n",
      "0.9416666666666667\n",
      "0.9283333333333333\n",
      "0.945\n",
      "0.94\n",
      "0.93\n",
      "0.9416666666666667\n",
      "0.9433333333333334\n",
      "0.9283333333333333\n",
      "0.9433333333333334\n",
      "0.94\n",
      "0.9283333333333333\n",
      "0.94\n",
      "0.945\n",
      "0.925\n"
     ]
    }
   ],
   "source": [
    "res = {}\n",
    "for n_neighbors in range(1,n) :\n",
    "# Reduce dimension to 2 with PCA\n",
    "    pca = make_pipeline(StandardScaler(),\n",
    "                        PCA(random_state=random_state))\n",
    "\n",
    "    # Reduce dimension to 2 with LinearDiscriminantAnalysis\n",
    "    lda = make_pipeline(StandardScaler(),\n",
    "                        LinearDiscriminantAnalysis())\n",
    "\n",
    "    # Reduce dimension to 2 with NeighborhoodComponentAnalysis\n",
    "    nca = make_pipeline(StandardScaler(),\n",
    "                        NeighborhoodComponentsAnalysis(random_state=random_state))\n",
    "\n",
    "    # Use a nearest neighbor classifier to evaluate the methods\n",
    "    knn = KNeighborsClassifier(n_neighbors=n_neighbors)\n",
    "    # Make a list of the methods to be compared\n",
    "    dim_reduction_methods = [('PCA', pca), ('LDA', lda), ('NCA', nca)]\n",
    "\n",
    "    for i, (name, model) in enumerate(dim_reduction_methods):\n",
    "        # Fit the method's model\n",
    "        model.fit(X_train, y_train)\n",
    "        # Fit a nearest neighbor classifier on the embedded training set\n",
    "        knn.fit(model.transform(X_train), y_train)\n",
    "        # Compute the nearest neighbor accuracy on the embedded test set\n",
    "        acc_knn = knn.score(model.transform(X_test), y_test)\n",
    "        print(acc_knn)\n",
    "        if name not in res.keys():\n",
    "            res[name] = [acc_knn]\n",
    "        else: res[name].append(acc_knn)\n",
    "    # Embed the data set in 2 dimensions using the fitted model"
   ],
   "metadata": {
    "collapsed": false,
    "pycharm": {
     "name": "#%%\n"
    }
   }
  },
  {
   "cell_type": "code",
   "execution_count": 140,
   "outputs": [
    {
     "data": {
      "text/plain": "<Figure size 432x288 with 1 Axes>",
      "image/png": "[encoded data removed]"
     },
     "metadata": {
      "needs_background": "light"
     },
     "output_type": "display_data"
    }
   ],
   "source": [
    "xaxis = range(1,n)\n",
    "plt.plot(xaxis, res['PCA'], label = 'PCA')\n",
    "plt.plot(xaxis, res['LDA'], label = 'LDA')\n",
    "plt.plot(xaxis, res['NCA'], label = 'NCA')\n",
    "plt.legend()\n",
    "plt.savefig(\"plot.pdf\")"
   ],
   "metadata": {
    "collapsed": false,
    "pycharm": {
     "name": "#%%\n"
    }
   }
  }
 ],
 "metadata": {
  "kernelspec": {
   "display_name": "Python 3",
   "language": "python",
   "name": "python3"
  },
  "language_info": {
   "codemirror_mode": {
    "name": "ipython",
    "version": 2
   },
   "file_extension": ".py",
   "mimetype": "text/x-python",
   "name": "python",
   "nbconvert_exporter": "python",
   "pygments_lexer": "ipython2",
   "version": "2.7.6"
  }
 },
 "nbformat": 4,
 "nbformat_minor": 0
}