{
 "cells": [
  {
   "cell_type": "code",
   "execution_count": 1,
   "outputs": [],
   "source": [
    "%run \"00-common\""
   ],
   "metadata": {
    "collapsed": false,
    "pycharm": {
     "name": "#%%\n"
    }
   }
  },
  {
   "cell_type": "code",
   "execution_count": 2,
   "outputs": [],
   "source": [
    "import pandas as pd\n",
    "import matplotlib.pyplot as plt\n",
    "from sklearn.model_selection import train_test_split\n",
    "from sklearn.metrics import (f1_score, confusion_matrix)\n",
    "from sklearn.decomposition import PCA\n",
    "from sklearn.discriminant_analysis import LinearDiscriminantAnalysis\n",
    "from sklearn.neighbors import (KNeighborsClassifier, NeighborhoodComponentsAnalysis)\n",
    "from sklearn.pipeline import (make_pipeline, Pipeline)\n",
    "from sklearn.preprocessing import StandardScaler"
   ],
   "metadata": {
    "collapsed": false,
    "pycharm": {
     "name": "#%%\n"
    }
   }
  },
  {
   "cell_type": "code",
   "execution_count": 3,
   "outputs": [
    {
     "data": {
      "text/plain": "   koi_period  koi_period_err1  koi_period_err2  koi_time0bk_err1  \\\n0  101.110701         0.000953        -0.000953          0.008060   \n1    4.800654         0.000004        -0.000004          0.000745   \n2   39.593105         0.000615        -0.000615          0.014000   \n3   31.158825         0.000057        -0.000057          0.001380   \n4  613.829050         0.032600        -0.032600          0.031900   \n\n   koi_time0bk_err2  koi_impact  koi_duration_err1  koi_duration_err2  \\\n0         -0.008060      0.0460             0.2100            -0.2100   \n1         -0.000745      0.7850             0.0550            -0.0550   \n2         -0.014000      0.0044             0.5980            -0.5980   \n3         -0.001380      0.0290             0.0504            -0.0504   \n4         -0.031900      0.2616             1.4000            -1.4000   \n\n   koi_depth  koi_prad  koi_prad_err1  koi_prad_err2  koi_teq  koi_insol  \\\n0      878.1      1.61           0.10          -0.08    229.0       0.65   \n1    15304.0     16.91           6.01          -2.00   1347.0     778.45   \n2      156.6      1.22           0.51          -0.11    546.0      21.06   \n3      959.0      3.56           0.57          -0.46    639.0      39.46   \n4      148.2      2.85           1.25          -1.41    307.0       2.10   \n\n   koi_insol_err1  koi_insol_err2  koi_model_snr  koi_steff  koi_steff_err1  \\\n0            0.14           -0.11           24.1     4133.0            74.0   \n1          793.72         -255.78          298.0     6715.0           161.0   \n2           26.65           -6.05            5.7     6046.0           172.0   \n3           17.49          -11.96           73.6     5951.0           107.0   \n4            2.78           -1.62           10.2     5636.0           173.0   \n\n   koi_steff_err2  koi_slogg_err1  koi_slogg_err2  koi_srad  koi_srad_err1  \\\n0           -82.0           0.023          -0.033     0.561          0.033   \n1          -241.0           0.056          -0.224     1.241          0.441   \n2          -218.0           0.044          -0.298     0.972          0.411   \n3          -119.0           0.120          -0.120     1.155          0.184   \n4          -148.0           0.459          -0.224     2.357          1.027   \n\n         dec  koi_disposition  \n0  41.452209                1  \n1  38.999008                0  \n2  41.659611                0  \n3  38.710232                1  \n4  43.824032                0  ",
      "text/html": "<div>\n<style scoped>\n    .dataframe tbody tr th:only-of-type {\n        vertical-align: middle;\n    }\n\n    .dataframe tbody tr th {\n        vertical-align: top;\n    }\n\n    .dataframe thead th {\n        text-align: right;\n    }\n</style>\n<table border=\"1\" class=\"dataframe\">\n  <thead>\n    <tr style=\"text-align: right;\">\n      <th></th>\n      <th>koi_period</th>\n      <th>koi_period_err1</th>\n      <th>koi_period_err2</th>\n      <th>koi_time0bk_err1</th>\n      <th>koi_time0bk_err2</th>\n      <th>koi_impact</th>\n      <th>koi_duration_err1</th>\n      <th>koi_duration_err2</th>\n      <th>koi_depth</th>\n      <th>koi_prad</th>\n      <th>koi_prad_err1</th>\n      <th>koi_prad_err2</th>\n      <th>koi_teq</th>\n      <th>koi_insol</th>\n      <th>koi_insol_err1</th>\n      <th>koi_insol_err2</th>\n      <th>koi_model_snr</th>\n      <th>koi_steff</th>\n      <th>koi_steff_err1</th>\n      <th>koi_steff_err2</th>\n      <th>koi_slogg_err1</th>\n      <th>koi_slogg_err2</th>\n      <th>koi_srad</th>\n      <th>koi_srad_err1</th>\n      <th>dec</th>\n      <th>koi_disposition</th>\n    </tr>\n  </thead>\n  <tbody>\n    <tr>\n      <th>0</th>\n      <td>101.110701</td>\n      <td>0.000953</td>\n      <td>-0.000953</td>\n      <td>0.008060</td>\n      <td>-0.008060</td>\n      <td>0.0460</td>\n      <td>0.2100</td>\n      <td>-0.2100</td>\n      <td>878.1</td>\n      <td>1.61</td>\n      <td>0.10</td>\n      <td>-0.08</td>\n      <td>229.0</td>\n      <td>0.65</td>\n      <td>0.14</td>\n      <td>-0.11</td>\n      <td>24.1</td>\n      <td>4133.0</td>\n      <td>74.0</td>\n      <td>-82.0</td>\n      <td>0.023</td>\n      <td>-0.033</td>\n      <td>0.561</td>\n      <td>0.033</td>\n      <td>41.452209</td>\n      <td>1</td>\n    </tr>\n    <tr>\n      <th>1</th>\n      <td>4.800654</td>\n      <td>0.000004</td>\n      <td>-0.000004</td>\n      <td>0.000745</td>\n      <td>-0.000745</td>\n      <td>0.7850</td>\n      <td>0.0550</td>\n      <td>-0.0550</td>\n      <td>15304.0</td>\n      <td>16.91</td>\n      <td>6.01</td>\n      <td>-2.00</td>\n      <td>1347.0</td>\n      <td>778.45</td>\n      <td>793.72</td>\n      <td>-255.78</td>\n      <td>298.0</td>\n      <td>6715.0</td>\n      <td>161.0</td>\n      <td>-241.0</td>\n      <td>0.056</td>\n      <td>-0.224</td>\n      <td>1.241</td>\n      <td>0.441</td>\n      <td>38.999008</td>\n      <td>0</td>\n    </tr>\n    <tr>\n      <th>2</th>\n      <td>39.593105</td>\n      <td>0.000615</td>\n      <td>-0.000615</td>\n      <td>0.014000</td>\n      <td>-0.014000</td>\n      <td>0.0044</td>\n      <td>0.5980</td>\n      <td>-0.5980</td>\n      <td>156.6</td>\n      <td>1.22</td>\n      <td>0.51</td>\n      <td>-0.11</td>\n      <td>546.0</td>\n      <td>21.06</td>\n      <td>26.65</td>\n      <td>-6.05</td>\n      <td>5.7</td>\n      <td>6046.0</td>\n      <td>172.0</td>\n      <td>-218.0</td>\n      <td>0.044</td>\n      <td>-0.298</td>\n      <td>0.972</td>\n      <td>0.411</td>\n      <td>41.659611</td>\n      <td>0</td>\n    </tr>\n    <tr>\n      <th>3</th>\n      <td>31.158825</td>\n      <td>0.000057</td>\n      <td>-0.000057</td>\n      <td>0.001380</td>\n      <td>-0.001380</td>\n      <td>0.0290</td>\n      <td>0.0504</td>\n      <td>-0.0504</td>\n      <td>959.0</td>\n      <td>3.56</td>\n      <td>0.57</td>\n      <td>-0.46</td>\n      <td>639.0</td>\n      <td>39.46</td>\n      <td>17.49</td>\n      <td>-11.96</td>\n      <td>73.6</td>\n      <td>5951.0</td>\n      <td>107.0</td>\n      <td>-119.0</td>\n      <td>0.120</td>\n      <td>-0.120</td>\n      <td>1.155</td>\n      <td>0.184</td>\n      <td>38.710232</td>\n      <td>1</td>\n    </tr>\n    <tr>\n      <th>4</th>\n      <td>613.829050</td>\n      <td>0.032600</td>\n      <td>-0.032600</td>\n      <td>0.031900</td>\n      <td>-0.031900</td>\n      <td>0.2616</td>\n      <td>1.4000</td>\n      <td>-1.4000</td>\n      <td>148.2</td>\n      <td>2.85</td>\n      <td>1.25</td>\n      <td>-1.41</td>\n      <td>307.0</td>\n      <td>2.10</td>\n      <td>2.78</td>\n      <td>-1.62</td>\n      <td>10.2</td>\n      <td>5636.0</td>\n      <td>173.0</td>\n      <td>-148.0</td>\n      <td>0.459</td>\n      <td>-0.224</td>\n      <td>2.357</td>\n      <td>1.027</td>\n      <td>43.824032</td>\n      <td>0</td>\n    </tr>\n  </tbody>\n</table>\n</div>"
     },
     "execution_count": 3,
     "metadata": {},
     "output_type": "execute_result"
    }
   ],
   "source": [
    "df = pd.read_csv('../feature_selection.csv')\n",
    "df.head()"
   ],
   "metadata": {
    "collapsed": false,
    "pycharm": {
     "name": "#%%\n"
    }
   }
  },
  {
   "cell_type": "code",
   "execution_count": 4,
   "outputs": [],
   "source": [
    "n = 50\n",
    "random_state = 1\n",
    "\n",
    "X = df.drop(\"koi_disposition\", axis=1)\n",
    "y = df[\"koi_disposition\"]"
   ],
   "metadata": {
    "collapsed": false,
    "pycharm": {
     "name": "#%%\n"
    }
   }
  },
  {
   "cell_type": "code",
   "execution_count": 5,
   "outputs": [],
   "source": [
    "# Split into train/test\n",
    "X_train, X_test, y_train, y_test = \\\n",
    "    train_test_split(X, y, test_size=0.3, stratify=y,\n",
    "                     random_state=random_state)"
   ],
   "metadata": {
    "collapsed": false,
    "pycharm": {
     "name": "#%%\n"
    }
   }
  },
  {
   "cell_type": "code",
   "execution_count": null,
   "outputs": [],
   "source": [
    "best = 0\n",
    "bestn = 1\n",
    "bestm = \"\"\n",
    "res = {}\n",
    "for n_neighbors in range(1,n) :\n",
    "    pca = make_pipeline(StandardScaler(),\n",
    "                        PCA(random_state=random_state))\n",
    "    lda = make_pipeline(StandardScaler(),\n",
    "                        LinearDiscriminantAnalysis())\n",
    "    nca = make_pipeline(StandardScaler(),\n",
    "                        NeighborhoodComponentsAnalysis(random_state=random_state))\n",
    "    knn = KNeighborsClassifier(n_neighbors=n_neighbors)\n",
    "    wknn = KNeighborsClassifier(n_neighbors=n_neighbors, weights='distance')\n",
    "    # Make a list of the methods to be compared\n",
    "    dim_reduction_methods = [('PCA', pca), ('LDA', lda), ('NCA', nca)]\n",
    "\n",
    "    for i, (name, model) in enumerate(dim_reduction_methods):\n",
    "        model.fit(X_train, y_train)\n",
    "        knn.fit(model.transform(X_train), y_train)\n",
    "        wknn.fit(model.transform(X_train), y_train)\n",
    "        out_knn = knn.predict(model.transform(X_test))\n",
    "        f1_knn = f1_score(y_test, out_knn)\n",
    "        out_wknn = wknn.predict(model.transform(X_test))\n",
    "        f1_wknn = f1_score(y_test, out_wknn)\n",
    "        if max(f1_knn, f1_wknn) > best:\n",
    "            best = max(f1_knn, f1_wknn)\n",
    "            bestn = n_neighbors\n",
    "            bestm = name\n",
    "            if f1_wknn > f1_knn:\n",
    "                bestm = \"Weighted \" + bestm\n",
    "        if name not in res.keys():\n",
    "            res[name] = [f1_knn]\n",
    "            res['W'+name] = [f1_wknn]\n",
    "        else:\n",
    "            res[name].append(f1_knn)\n",
    "            res['W'+name].append(f1_wknn)\n",
    "print(\"The best value was found with \", bestm, \" and parameter k = \", bestn, \" with a f1 score of \", best)"
   ],
   "metadata": {
    "collapsed": false,
    "pycharm": {
     "name": "#%%\n",
     "is_executing": true
    }
   }
  },
  {
   "cell_type": "code",
   "execution_count": null,
   "outputs": [],
   "source": [
    "xaxis = range(1,n)\n",
    "plt.plot(xaxis, res['PCA'], 'r-', label = 'PCA')\n",
    "plt.plot(xaxis, res['LDA'], 'g-', label = 'LDA')\n",
    "plt.plot(xaxis, res['NCA'], 'b-', label = 'NCA')\n",
    "plt.plot(xaxis, res['WPCA'], 'r--', label = 'Weighted PCA')\n",
    "plt.plot(xaxis, res['WLDA'], 'g--', label = 'Weighted LDA')\n",
    "plt.plot(xaxis, res['WNCA'], 'b--', label = 'Weighted NCA')\n",
    "plt.xlabel(\"K value\")\n",
    "plt.ylabel(\"F1 Score\")\n",
    "plt.grid(True)\n",
    "plt.legend()\n",
    "plt.savefig(\"../figures/knn.pdf\")"
   ],
   "metadata": {
    "collapsed": false,
    "pycharm": {
     "name": "#%%\n",
     "is_executing": true
    }
   }
  },
  {
   "cell_type": "code",
   "execution_count": null,
   "outputs": [],
   "source": [
    "knn = Pipeline(steps=[\n",
    "    ('Scaler', StandardScaler()),\n",
    "    ('KNN', KNeighborsClassifier(n_neighbors=1)),\n",
    "     ])\n",
    "knn.fit(X_train, y_train)\n",
    "pred = knn.predict(X_test)\n",
    "print(pred)\n",
    "confusion_matrix(y_test, pred)"
   ],
   "metadata": {
    "collapsed": false,
    "pycharm": {
     "name": "#%%\n",
     "is_executing": true
    }
   }
  },
  {
   "cell_type": "code",
   "execution_count": null,
   "outputs": [],
   "source": [
    "\n"
   ],
   "metadata": {
    "collapsed": false,
    "pycharm": {
     "name": "#%%\n",
     "is_executing": true
    }
   }
  }
 ],
 "metadata": {
  "kernelspec": {
   "name": "pycharm-735ff090",
   "language": "python",
   "display_name": "PyCharm (UPC-MD_nasa)"
  },
  "language_info": {
   "codemirror_mode": {
    "name": "ipython",
    "version": 2
   },
   "file_extension": ".py",
   "mimetype": "text/x-python",
   "name": "python",
   "nbconvert_exporter": "python",
   "pygments_lexer": "ipython2",
   "version": "2.7.6"
  }
 },
 "nbformat": 4,
 "nbformat_minor": 0
}