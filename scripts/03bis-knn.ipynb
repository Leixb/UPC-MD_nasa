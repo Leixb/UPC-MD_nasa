{
 "cells": [
  {
   "cell_type": "code",
   "execution_count": 1,
   "metadata": {
    "collapsed": true
   },
   "outputs": [],
   "source": [
    "import numpy as np\n",
    "import pandas as pd\n",
    "import matplotlib.pyplot as plt\n",
    "from sklearn.model_selection import train_test_split\n",
    "from sklearn.decomposition import PCA\n",
    "from sklearn.discriminant_analysis import LinearDiscriminantAnalysis\n",
    "from sklearn.neighbors import (KNeighborsClassifier,\n",
    "                               NeighborhoodComponentsAnalysis)\n",
    "from sklearn.pipeline import make_pipeline\n",
    "from sklearn.preprocessing import StandardScaler"
   ]
  },
  {
   "cell_type": "code",
   "execution_count": 2,
   "outputs": [
    {
     "data": {
      "text/plain": "   koi_period  koi_period_err1  koi_period_err2  koi_time0bk_err1  \\\n0  101.110701         0.000953        -0.000953          0.008060   \n1    4.800654         0.000004        -0.000004          0.000745   \n2   39.593105         0.000615        -0.000615          0.014000   \n3   31.158825         0.000057        -0.000057          0.001380   \n4  613.829050         0.032600        -0.032600          0.031900   \n\n   koi_time0bk_err2  koi_impact  koi_duration_err1  koi_duration_err2  \\\n0         -0.008060      0.0460             0.2100            -0.2100   \n1         -0.000745      0.7850             0.0550            -0.0550   \n2         -0.014000      0.0044             0.5980            -0.5980   \n3         -0.001380      0.0290             0.0504            -0.0504   \n4         -0.031900      0.2616             1.4000            -1.4000   \n\n   koi_depth  koi_prad  ...  koi_model_snr  koi_steff  koi_steff_err1  \\\n0      878.1      1.61  ...           24.1     4133.0            74.0   \n1    15304.0     16.91  ...          298.0     6715.0           161.0   \n2      156.6      1.22  ...            5.7     6046.0           172.0   \n3      959.0      3.56  ...           73.6     5951.0           107.0   \n4      148.2      2.85  ...           10.2     5636.0           173.0   \n\n   koi_steff_err2  koi_slogg  koi_slogg_err1  koi_slogg_err2  koi_srad  \\\n0           -82.0      4.705           0.023          -0.033     0.561   \n1          -241.0      4.347           0.056          -0.224     1.241   \n2          -218.0      4.486           0.044          -0.298     0.972   \n3          -119.0      4.319           0.120          -0.120     1.155   \n4          -148.0      3.809           0.459          -0.224     2.357   \n\n   koi_srad_err1  koi_disposition  \n0          0.033                1  \n1          0.441                0  \n2          0.411                0  \n3          0.184                1  \n4          1.027                0  \n\n[5 rows x 26 columns]",
      "text/html": "<div>\n<style scoped>\n    .dataframe tbody tr th:only-of-type {\n        vertical-align: middle;\n    }\n\n    .dataframe tbody tr th {\n        vertical-align: top;\n    }\n\n    .dataframe thead th {\n        text-align: right;\n    }\n</style>\n<table border=\"1\" class=\"dataframe\">\n  <thead>\n    <tr style=\"text-align: right;\">\n      <th></th>\n      <th>koi_period</th>\n      <th>koi_period_err1</th>\n      <th>koi_period_err2</th>\n      <th>koi_time0bk_err1</th>\n      <th>koi_time0bk_err2</th>\n      <th>koi_impact</th>\n      <th>koi_duration_err1</th>\n      <th>koi_duration_err2</th>\n      <th>koi_depth</th>\n      <th>koi_prad</th>\n      <th>...</th>\n      <th>koi_model_snr</th>\n      <th>koi_steff</th>\n      <th>koi_steff_err1</th>\n      <th>koi_steff_err2</th>\n      <th>koi_slogg</th>\n      <th>koi_slogg_err1</th>\n      <th>koi_slogg_err2</th>\n      <th>koi_srad</th>\n      <th>koi_srad_err1</th>\n      <th>koi_disposition</th>\n    </tr>\n  </thead>\n  <tbody>\n    <tr>\n      <th>0</th>\n      <td>101.110701</td>\n      <td>0.000953</td>\n      <td>-0.000953</td>\n      <td>0.008060</td>\n      <td>-0.008060</td>\n      <td>0.0460</td>\n      <td>0.2100</td>\n      <td>-0.2100</td>\n      <td>878.1</td>\n      <td>1.61</td>\n      <td>...</td>\n      <td>24.1</td>\n      <td>4133.0</td>\n      <td>74.0</td>\n      <td>-82.0</td>\n      <td>4.705</td>\n      <td>0.023</td>\n      <td>-0.033</td>\n      <td>0.561</td>\n      <td>0.033</td>\n      <td>1</td>\n    </tr>\n    <tr>\n      <th>1</th>\n      <td>4.800654</td>\n      <td>0.000004</td>\n      <td>-0.000004</td>\n      <td>0.000745</td>\n      <td>-0.000745</td>\n      <td>0.7850</td>\n      <td>0.0550</td>\n      <td>-0.0550</td>\n      <td>15304.0</td>\n      <td>16.91</td>\n      <td>...</td>\n      <td>298.0</td>\n      <td>6715.0</td>\n      <td>161.0</td>\n      <td>-241.0</td>\n      <td>4.347</td>\n      <td>0.056</td>\n      <td>-0.224</td>\n      <td>1.241</td>\n      <td>0.441</td>\n      <td>0</td>\n    </tr>\n    <tr>\n      <th>2</th>\n      <td>39.593105</td>\n      <td>0.000615</td>\n      <td>-0.000615</td>\n      <td>0.014000</td>\n      <td>-0.014000</td>\n      <td>0.0044</td>\n      <td>0.5980</td>\n      <td>-0.5980</td>\n      <td>156.6</td>\n      <td>1.22</td>\n      <td>...</td>\n      <td>5.7</td>\n      <td>6046.0</td>\n      <td>172.0</td>\n      <td>-218.0</td>\n      <td>4.486</td>\n      <td>0.044</td>\n      <td>-0.298</td>\n      <td>0.972</td>\n      <td>0.411</td>\n      <td>0</td>\n    </tr>\n    <tr>\n      <th>3</th>\n      <td>31.158825</td>\n      <td>0.000057</td>\n      <td>-0.000057</td>\n      <td>0.001380</td>\n      <td>-0.001380</td>\n      <td>0.0290</td>\n      <td>0.0504</td>\n      <td>-0.0504</td>\n      <td>959.0</td>\n      <td>3.56</td>\n      <td>...</td>\n      <td>73.6</td>\n      <td>5951.0</td>\n      <td>107.0</td>\n      <td>-119.0</td>\n      <td>4.319</td>\n      <td>0.120</td>\n      <td>-0.120</td>\n      <td>1.155</td>\n      <td>0.184</td>\n      <td>1</td>\n    </tr>\n    <tr>\n      <th>4</th>\n      <td>613.829050</td>\n      <td>0.032600</td>\n      <td>-0.032600</td>\n      <td>0.031900</td>\n      <td>-0.031900</td>\n      <td>0.2616</td>\n      <td>1.4000</td>\n      <td>-1.4000</td>\n      <td>148.2</td>\n      <td>2.85</td>\n      <td>...</td>\n      <td>10.2</td>\n      <td>5636.0</td>\n      <td>173.0</td>\n      <td>-148.0</td>\n      <td>3.809</td>\n      <td>0.459</td>\n      <td>-0.224</td>\n      <td>2.357</td>\n      <td>1.027</td>\n      <td>0</td>\n    </tr>\n  </tbody>\n</table>\n<p>5 rows × 26 columns</p>\n</div>"
     },
     "execution_count": 2,
     "metadata": {},
     "output_type": "execute_result"
    }
   ],
   "source": [
    "df = pd.read_csv('../feature_selection.csv')\n",
    "df.head()"
   ],
   "metadata": {
    "collapsed": false,
    "pycharm": {
     "name": "#%%\n"
    }
   }
  },
  {
   "cell_type": "code",
   "execution_count": 3,
   "outputs": [],
   "source": [
    "n = 30\n",
    "random_state = 42\n",
    "\n",
    "# Load Digits dataset\n",
    "X = df.drop(\"koi_disposition\", axis=1)\n",
    "y = df[\"koi_disposition\"]"
   ],
   "metadata": {
    "collapsed": false,
    "pycharm": {
     "name": "#%%\n"
    }
   }
  },
  {
   "cell_type": "code",
   "execution_count": 4,
   "outputs": [],
   "source": [
    "# Split into train/test\n",
    "X_train, X_test, y_train, y_test = \\\n",
    "    train_test_split(X, y, test_size=0.3, stratify=y,\n",
    "                     random_state=random_state)"
   ],
   "metadata": {
    "collapsed": false,
    "pycharm": {
     "name": "#%%\n"
    }
   }
  },
  {
   "cell_type": "code",
   "execution_count": 5,
   "outputs": [],
   "source": [
    "n_classes = len(np.unique(y))\n",
    "n_features = len(df.columns)"
   ],
   "metadata": {
    "collapsed": false,
    "pycharm": {
     "name": "#%%\n"
    }
   }
  },
  {
   "cell_type": "code",
   "execution_count": 6,
   "outputs": [
    {
     "name": "stdout",
     "output_type": "stream",
     "text": [
      "0.8283333333333334\n",
      "0.81\n",
      "0.8633333333333333\n",
      "0.8633333333333333\n",
      "0.805\n",
      "0.8716666666666667\n",
      "0.8683333333333333\n",
      "0.825\n",
      "0.885\n",
      "0.8833333333333333\n",
      "0.8266666666666667\n",
      "0.8883333333333333\n",
      "0.88\n",
      "0.8383333333333334\n",
      "0.9116666666666666\n",
      "0.89\n",
      "0.8366666666666667\n",
      "0.9066666666666666\n",
      "0.885\n",
      "0.8416666666666667\n",
      "0.9066666666666666\n",
      "0.8883333333333333\n",
      "0.8316666666666667\n",
      "0.905\n",
      "0.88\n",
      "0.8483333333333334\n",
      "0.9033333333333333\n",
      "0.8866666666666667\n",
      "0.845\n",
      "0.905\n",
      "0.8833333333333333\n",
      "0.8533333333333334\n",
      "0.9083333333333333\n",
      "0.8833333333333333\n",
      "0.8433333333333334\n",
      "0.9\n",
      "0.8766666666666667\n",
      "0.8483333333333334\n",
      "0.9016666666666666\n",
      "0.875\n",
      "0.8366666666666667\n",
      "0.9\n",
      "0.8716666666666667\n",
      "0.8533333333333334\n",
      "0.8983333333333333\n",
      "0.8733333333333333\n",
      "0.85\n",
      "0.8983333333333333\n",
      "0.88\n",
      "0.8533333333333334\n",
      "0.8966666666666666\n",
      "0.88\n",
      "0.8583333333333333\n",
      "0.895\n",
      "0.8833333333333333\n",
      "0.8616666666666667\n",
      "0.8983333333333333\n",
      "0.8766666666666667\n",
      "0.8583333333333333\n",
      "0.9\n",
      "0.875\n",
      "0.8583333333333333\n",
      "0.8983333333333333\n",
      "0.8716666666666667\n",
      "0.86\n",
      "0.9033333333333333\n",
      "0.8783333333333333\n",
      "0.865\n",
      "0.9083333333333333\n",
      "0.8733333333333333\n",
      "0.8633333333333333\n",
      "0.9066666666666666\n",
      "0.8833333333333333\n",
      "0.865\n",
      "0.9133333333333333\n",
      "0.885\n",
      "0.865\n",
      "0.9066666666666666\n",
      "0.885\n",
      "0.865\n",
      "0.9066666666666666\n",
      "0.8833333333333333\n",
      "0.865\n",
      "0.9066666666666666\n",
      "0.8816666666666667\n",
      "0.865\n",
      "0.9083333333333333\n"
     ]
    }
   ],
   "source": [
    "res = {}\n",
    "for n_neighbors in range(1,n) :\n",
    "# Reduce dimension to 2 with PCA\n",
    "    pca = make_pipeline(StandardScaler(),\n",
    "                        PCA(random_state=random_state))\n",
    "\n",
    "    # Reduce dimension to 2 with LinearDiscriminantAnalysis\n",
    "    lda = make_pipeline(StandardScaler(),\n",
    "                        LinearDiscriminantAnalysis())\n",
    "\n",
    "    # Reduce dimension to 2 with NeighborhoodComponentAnalysis\n",
    "    nca = make_pipeline(StandardScaler(),\n",
    "                        NeighborhoodComponentsAnalysis(random_state=random_state))\n",
    "\n",
    "    # Use a nearest neighbor classifier to evaluate the methods\n",
    "    knn = KNeighborsClassifier(n_neighbors=n_neighbors)\n",
    "    # Make a list of the methods to be compared\n",
    "    dim_reduction_methods = [('PCA', pca), ('LDA', lda), ('NCA', nca)]\n",
    "\n",
    "    for i, (name, model) in enumerate(dim_reduction_methods):\n",
    "        # Fit the method's model\n",
    "        model.fit(X_train, y_train)\n",
    "        # Fit a nearest neighbor classifier on the embedded training set\n",
    "        knn.fit(model.transform(X_train), y_train)\n",
    "        # Compute the nearest neighbor accuracy on the embedded test set\n",
    "        acc_knn = knn.score(model.transform(X_test), y_test)\n",
    "        if name not in res.keys():\n",
    "            res[name] = [acc_knn]\n",
    "        else: res[name].append(acc_knn)\n",
    "    # Embed the data set in 2 dimensions using the fitted model"
   ],
   "metadata": {
    "collapsed": false,
    "pycharm": {
     "name": "#%%\n"
    }
   }
  },
  {
   "cell_type": "code",
   "execution_count": 8,
   "outputs": [
    {
     "data": {
      "text/plain": "<Figure size 432x288 with 1 Axes>",
      "image/png": "[encoded data removed]"
     },
     "metadata": {
      "needs_background": "light"
     },
     "output_type": "display_data"
    }
   ],
   "source": [
    "xaxis = range(1,n)\n",
    "plt.plot(xaxis, res['PCA'], label = 'PCA')\n",
    "plt.plot(xaxis, res['LDA'], label = 'LDA')\n",
    "plt.plot(xaxis, res['NCA'], label = 'NCA')\n",
    "plt.legend()\n",
    "plt.savefig(\"plot.png\")"
   ],
   "metadata": {
    "collapsed": false,
    "pycharm": {
     "name": "#%%\n"
    }
   }
  }
 ],
 "metadata": {
  "kernelspec": {
   "display_name": "Python 3",
   "language": "python",
   "name": "python3"
  },
  "language_info": {
   "codemirror_mode": {
    "name": "ipython",
    "version": 2
   },
   "file_extension": ".py",
   "mimetype": "text/x-python",
   "name": "python",
   "nbconvert_exporter": "python",
   "pygments_lexer": "ipython2",
   "version": "2.7.6"
  }
 },
 "nbformat": 4,
 "nbformat_minor": 0
}