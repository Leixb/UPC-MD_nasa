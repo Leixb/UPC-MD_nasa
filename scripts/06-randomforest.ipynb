{
 "cells": [
  {
   "cell_type": "markdown",
   "metadata": {},
   "source": [
    "# Random Forest"
   ]
  },
  {
   "cell_type": "code",
   "execution_count": 8,
   "metadata": {},
   "outputs": [
    {
     "data": {
      "text/html": [
       "<div>\n",
       "<style scoped>\n",
       "    .dataframe tbody tr th:only-of-type {\n",
       "        vertical-align: middle;\n",
       "    }\n",
       "\n",
       "    .dataframe tbody tr th {\n",
       "        vertical-align: top;\n",
       "    }\n",
       "\n",
       "    .dataframe thead th {\n",
       "        text-align: right;\n",
       "    }\n",
       "</style>\n",
       "<table border=\"1\" class=\"dataframe\">\n",
       "  <thead>\n",
       "    <tr style=\"text-align: right;\">\n",
       "      <th></th>\n",
       "      <th>koi_period</th>\n",
       "      <th>koi_period_err1</th>\n",
       "      <th>koi_period_err2</th>\n",
       "      <th>koi_time0bk_err1</th>\n",
       "      <th>koi_time0bk_err2</th>\n",
       "      <th>koi_impact</th>\n",
       "      <th>koi_duration_err1</th>\n",
       "      <th>koi_duration_err2</th>\n",
       "      <th>koi_depth</th>\n",
       "      <th>koi_prad</th>\n",
       "      <th>...</th>\n",
       "      <th>koi_model_snr</th>\n",
       "      <th>koi_steff</th>\n",
       "      <th>koi_steff_err1</th>\n",
       "      <th>koi_steff_err2</th>\n",
       "      <th>koi_slogg_err1</th>\n",
       "      <th>koi_slogg_err2</th>\n",
       "      <th>koi_srad</th>\n",
       "      <th>koi_srad_err1</th>\n",
       "      <th>dec</th>\n",
       "      <th>koi_disposition</th>\n",
       "    </tr>\n",
       "  </thead>\n",
       "  <tbody>\n",
       "    <tr>\n",
       "      <th>0</th>\n",
       "      <td>101.110701</td>\n",
       "      <td>0.000953</td>\n",
       "      <td>-0.000953</td>\n",
       "      <td>0.008060</td>\n",
       "      <td>-0.008060</td>\n",
       "      <td>0.0460</td>\n",
       "      <td>0.2100</td>\n",
       "      <td>-0.2100</td>\n",
       "      <td>878.1</td>\n",
       "      <td>1.61</td>\n",
       "      <td>...</td>\n",
       "      <td>24.1</td>\n",
       "      <td>4133.0</td>\n",
       "      <td>74.0</td>\n",
       "      <td>-82.0</td>\n",
       "      <td>0.023</td>\n",
       "      <td>-0.033</td>\n",
       "      <td>0.561</td>\n",
       "      <td>0.033</td>\n",
       "      <td>41.452209</td>\n",
       "      <td>1</td>\n",
       "    </tr>\n",
       "    <tr>\n",
       "      <th>1</th>\n",
       "      <td>4.800654</td>\n",
       "      <td>0.000004</td>\n",
       "      <td>-0.000004</td>\n",
       "      <td>0.000745</td>\n",
       "      <td>-0.000745</td>\n",
       "      <td>0.7850</td>\n",
       "      <td>0.0550</td>\n",
       "      <td>-0.0550</td>\n",
       "      <td>15304.0</td>\n",
       "      <td>16.91</td>\n",
       "      <td>...</td>\n",
       "      <td>298.0</td>\n",
       "      <td>6715.0</td>\n",
       "      <td>161.0</td>\n",
       "      <td>-241.0</td>\n",
       "      <td>0.056</td>\n",
       "      <td>-0.224</td>\n",
       "      <td>1.241</td>\n",
       "      <td>0.441</td>\n",
       "      <td>38.999008</td>\n",
       "      <td>0</td>\n",
       "    </tr>\n",
       "    <tr>\n",
       "      <th>2</th>\n",
       "      <td>39.593105</td>\n",
       "      <td>0.000615</td>\n",
       "      <td>-0.000615</td>\n",
       "      <td>0.014000</td>\n",
       "      <td>-0.014000</td>\n",
       "      <td>0.0044</td>\n",
       "      <td>0.5980</td>\n",
       "      <td>-0.5980</td>\n",
       "      <td>156.6</td>\n",
       "      <td>1.22</td>\n",
       "      <td>...</td>\n",
       "      <td>5.7</td>\n",
       "      <td>6046.0</td>\n",
       "      <td>172.0</td>\n",
       "      <td>-218.0</td>\n",
       "      <td>0.044</td>\n",
       "      <td>-0.298</td>\n",
       "      <td>0.972</td>\n",
       "      <td>0.411</td>\n",
       "      <td>41.659611</td>\n",
       "      <td>0</td>\n",
       "    </tr>\n",
       "    <tr>\n",
       "      <th>3</th>\n",
       "      <td>31.158825</td>\n",
       "      <td>0.000057</td>\n",
       "      <td>-0.000057</td>\n",
       "      <td>0.001380</td>\n",
       "      <td>-0.001380</td>\n",
       "      <td>0.0290</td>\n",
       "      <td>0.0504</td>\n",
       "      <td>-0.0504</td>\n",
       "      <td>959.0</td>\n",
       "      <td>3.56</td>\n",
       "      <td>...</td>\n",
       "      <td>73.6</td>\n",
       "      <td>5951.0</td>\n",
       "      <td>107.0</td>\n",
       "      <td>-119.0</td>\n",
       "      <td>0.120</td>\n",
       "      <td>-0.120</td>\n",
       "      <td>1.155</td>\n",
       "      <td>0.184</td>\n",
       "      <td>38.710232</td>\n",
       "      <td>1</td>\n",
       "    </tr>\n",
       "    <tr>\n",
       "      <th>4</th>\n",
       "      <td>613.829050</td>\n",
       "      <td>0.032600</td>\n",
       "      <td>-0.032600</td>\n",
       "      <td>0.031900</td>\n",
       "      <td>-0.031900</td>\n",
       "      <td>0.2616</td>\n",
       "      <td>1.4000</td>\n",
       "      <td>-1.4000</td>\n",
       "      <td>148.2</td>\n",
       "      <td>2.85</td>\n",
       "      <td>...</td>\n",
       "      <td>10.2</td>\n",
       "      <td>5636.0</td>\n",
       "      <td>173.0</td>\n",
       "      <td>-148.0</td>\n",
       "      <td>0.459</td>\n",
       "      <td>-0.224</td>\n",
       "      <td>2.357</td>\n",
       "      <td>1.027</td>\n",
       "      <td>43.824032</td>\n",
       "      <td>0</td>\n",
       "    </tr>\n",
       "  </tbody>\n",
       "</table>\n",
       "<p>5 rows × 26 columns</p>\n",
       "</div>"
      ],
      "text/plain": [
       "   koi_period  koi_period_err1  koi_period_err2  koi_time0bk_err1  \\\n",
       "0  101.110701         0.000953        -0.000953          0.008060   \n",
       "1    4.800654         0.000004        -0.000004          0.000745   \n",
       "2   39.593105         0.000615        -0.000615          0.014000   \n",
       "3   31.158825         0.000057        -0.000057          0.001380   \n",
       "4  613.829050         0.032600        -0.032600          0.031900   \n",
       "\n",
       "   koi_time0bk_err2  koi_impact  koi_duration_err1  koi_duration_err2  \\\n",
       "0         -0.008060      0.0460             0.2100            -0.2100   \n",
       "1         -0.000745      0.7850             0.0550            -0.0550   \n",
       "2         -0.014000      0.0044             0.5980            -0.5980   \n",
       "3         -0.001380      0.0290             0.0504            -0.0504   \n",
       "4         -0.031900      0.2616             1.4000            -1.4000   \n",
       "\n",
       "   koi_depth  koi_prad  ...  koi_model_snr  koi_steff  koi_steff_err1  \\\n",
       "0      878.1      1.61  ...           24.1     4133.0            74.0   \n",
       "1    15304.0     16.91  ...          298.0     6715.0           161.0   \n",
       "2      156.6      1.22  ...            5.7     6046.0           172.0   \n",
       "3      959.0      3.56  ...           73.6     5951.0           107.0   \n",
       "4      148.2      2.85  ...           10.2     5636.0           173.0   \n",
       "\n",
       "   koi_steff_err2  koi_slogg_err1  koi_slogg_err2  koi_srad  koi_srad_err1  \\\n",
       "0           -82.0           0.023          -0.033     0.561          0.033   \n",
       "1          -241.0           0.056          -0.224     1.241          0.441   \n",
       "2          -218.0           0.044          -0.298     0.972          0.411   \n",
       "3          -119.0           0.120          -0.120     1.155          0.184   \n",
       "4          -148.0           0.459          -0.224     2.357          1.027   \n",
       "\n",
       "         dec  koi_disposition  \n",
       "0  41.452209                1  \n",
       "1  38.999008                0  \n",
       "2  41.659611                0  \n",
       "3  38.710232                1  \n",
       "4  43.824032                0  \n",
       "\n",
       "[5 rows x 26 columns]"
      ]
     },
     "execution_count": 8,
     "metadata": {},
     "output_type": "execute_result"
    }
   ],
   "source": [
    "import sklearn.ensemble as en\n",
    "import numpy as np\n",
    "import pandas as pd\n",
    "import sklearn.model_selection as cv\n",
    "from sklearn.metrics import accuracy_score\n",
    "from sklearn.metrics import confusion_matrix\n",
    "from sklearn.model_selection import GridSearchCV\n",
    "\n",
    "df = pd.read_csv('../feature_selection.csv')\n",
    "df.head()"
   ]
  },
  {
   "cell_type": "code",
   "execution_count": 9,
   "metadata": {},
   "outputs": [],
   "source": [
    "y_kepler = df['koi_disposition']\n",
    "X_kepler = df.drop('koi_disposition', axis=1)\n",
    "(X_train, X_test, y_train, y_test) = cv.train_test_split(X_kepler, y_kepler, test_size=.3, stratify = y_kepler, random_state=1)"
   ]
  },
  {
   "cell_type": "code",
   "execution_count": 11,
   "metadata": {},
   "outputs": [
    {
     "name": "stdout",
     "output_type": "stream",
     "text": [
      "Confusion matrix on test set:\n",
      " [[386  22]\n",
      " [ 25 167]]\n",
      "\n",
      "Accuracy on test set:  0.9216666666666666\n"
     ]
    }
   ],
   "source": [
    "rf = en.RandomForestClassifier()\n",
    "rf.fit(X_train, y_train)\n",
    "y_pred = rf.predict(X_test)\n",
    "print(\"Confusion matrix on test set:\\n\", confusion_matrix(y_test, y_pred))\n",
    "print(\"\\nAccuracy on test set: \", accuracy_score(y_test, y_pred))"
   ]
  },
  {
   "cell_type": "markdown",
   "metadata": {},
   "source": [
    "### Hyperparameter tuning"
   ]
  },
  {
   "cell_type": "code",
   "execution_count": 15,
   "metadata": {},
   "outputs": [
    {
     "name": "stdout",
     "output_type": "stream",
     "text": [
      "Fitting 5 folds for each of 96 candidates, totalling 480 fits\n"
     ]
    },
    {
     "name": "stderr",
     "output_type": "stream",
     "text": [
      "[Parallel(n_jobs=-1)]: Using backend LokyBackend with 4 concurrent workers.\n",
      "[Parallel(n_jobs=-1)]: Done  33 tasks      | elapsed:   13.4s\n",
      "[Parallel(n_jobs=-1)]: Done 154 tasks      | elapsed:  1.3min\n",
      "[Parallel(n_jobs=-1)]: Done 357 tasks      | elapsed:  3.3min\n",
      "[Parallel(n_jobs=-1)]: Done 480 out of 480 | elapsed:  5.2min finished\n"
     ]
    },
    {
     "data": {
      "text/plain": [
       "{'bootstrap': False,\n",
       " 'max_depth': 150,\n",
       " 'max_features': 5,\n",
       " 'min_samples_leaf': 5,\n",
       " 'min_samples_split': 5,\n",
       " 'n_estimators': 100}"
      ]
     },
     "execution_count": 15,
     "metadata": {},
     "output_type": "execute_result"
    }
   ],
   "source": [
    "params = {\n",
    "    'bootstrap': [True, False],\n",
    "    'max_depth': [50, 150],\n",
    "    'max_features': [5, 10],\n",
    "    'min_samples_leaf': [5, 10],\n",
    "    'min_samples_split': [5, 10],\n",
    "    'n_estimators': [100, 500, 1000]\n",
    "}\n",
    "\n",
    "rf = en.RandomForestClassifier()\n",
    "\n",
    "# Instantiate the grid search model\n",
    "gs = GridSearchCV(estimator = rf, param_grid = params, cv = 5, n_jobs = -1, verbose = 2)\n",
    "gs.fit(X_train, y_train)\n",
    "gs.best_params_"
   ]
  },
  {
   "cell_type": "code",
   "execution_count": 12,
   "metadata": {},
   "outputs": [],
   "source": [
    "best_params = gs.best_params_"
   ]
  },
  {
   "cell_type": "code",
   "execution_count": 13,
   "metadata": {},
   "outputs": [
    {
     "name": "stdout",
     "output_type": "stream",
     "text": [
      "Confusion matrix on test set:\n",
      " [[385  23]\n",
      " [ 23 169]]\n",
      "\n",
      "Accuracy on test set:  0.9233333333333333\n"
     ]
    }
   ],
   "source": [
    "rf = en.RandomForestClassifier(**best_params)\n",
    "rf.fit(X_train, y_train)\n",
    "y_pred = rf.predict(X_test)\n",
    "print(\"Confusion matrix on test set:\\n\", confusion_matrix(y_test, y_pred))\n",
    "print(\"\\nAccuracy on test set: \", accuracy_score(y_test, y_pred))"
   ]
  },
  {
   "cell_type": "code",
   "execution_count": null,
   "metadata": {},
   "outputs": [],
   "source": []
  }
 ],
 "metadata": {
  "kernelspec": {
   "display_name": "Python 3",
   "language": "python",
   "name": "python3"
  },
  "language_info": {
   "codemirror_mode": {
    "name": "ipython",
    "version": 3
   },
   "file_extension": ".py",
   "mimetype": "text/x-python",
   "name": "python",
   "nbconvert_exporter": "python",
   "pygments_lexer": "ipython3",
   "version": "3.8.5"
  }
 },
 "nbformat": 4,
 "nbformat_minor": 4
}
